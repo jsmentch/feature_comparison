{
 "cells": [
  {
   "cell_type": "markdown",
   "id": "widespread-combining",
   "metadata": {},
   "source": [
    "# notebook to explore extracted movie features from neuroscout with pyns"
   ]
  },
  {
   "cell_type": "code",
   "execution_count": 1,
   "id": "emerging-printing",
   "metadata": {},
   "outputs": [],
   "source": [
    "from pyns import Neuroscout\n",
    "api = Neuroscout()"
   ]
  },
  {
   "cell_type": "code",
   "execution_count": 2,
   "id": "frequent-first",
   "metadata": {},
   "outputs": [
    {
     "data": {
      "text/plain": [
       "12"
      ]
     },
     "execution_count": 2,
     "metadata": {},
     "output_type": "execute_result"
    }
   ],
   "source": [
    "#there are 12 datasets\n",
    "len(api.datasets.get())"
   ]
  },
  {
   "cell_type": "code",
   "execution_count": 3,
   "id": "indoor-appreciation",
   "metadata": {},
   "outputs": [
    {
     "name": "stdout",
     "output_type": "stream",
     "text": [
      "Budapest 27\n",
      "NaturalisticNeuroimagingDatabase 28\n",
      "HealthyBrainNetwork 8\n",
      "SchematicNarrative 20\n",
      "studyforrest 11\n",
      "Raiders 10\n",
      "Life 9\n",
      "ParanoiaStory 18\n",
      "Sherlock 21\n",
      "SherlockMerlin 5\n",
      "LearningTemporalStructure 19\n",
      "ReadingBrainProject 29\n"
     ]
    }
   ],
   "source": [
    "datasets = api.datasets.get()\n",
    "for i in datasets:\n",
    "    print(i['name'], i['id'])"
   ]
  },
  {
   "cell_type": "code",
   "execution_count": 4,
   "id": "nasty-compact",
   "metadata": {},
   "outputs": [],
   "source": [
    "budapest = datasets[0]"
   ]
  },
  {
   "cell_type": "code",
   "execution_count": 5,
   "id": "skilled-victim",
   "metadata": {},
   "outputs": [
    {
     "data": {
      "text/plain": [
       "[{'TR': 1.0,\n",
       "  'avg_run_duration': 610,\n",
       "  'id': 48,\n",
       "  'n_runs_subject': 5,\n",
       "  'n_subjects': 25,\n",
       "  'name': 'movie',\n",
       "  'summary': 'Movie watching'}]"
      ]
     },
     "execution_count": 5,
     "metadata": {},
     "output_type": "execute_result"
    }
   ],
   "source": [
    "budapest['tasks']"
   ]
  },
  {
   "cell_type": "markdown",
   "id": "novel-parade",
   "metadata": {},
   "source": [
    "### let's just look at budapest to start"
   ]
  },
  {
   "cell_type": "code",
   "execution_count": 6,
   "id": "visible-advantage",
   "metadata": {},
   "outputs": [
    {
     "data": {
      "text/plain": [
       "[{'acquisition': None,\n",
       "  'dataset_id': 27,\n",
       "  'duration': 598.0,\n",
       "  'id': 1433,\n",
       "  'number': 1,\n",
       "  'session': None,\n",
       "  'subject': 'sid000005',\n",
       "  'task': 48,\n",
       "  'task_name': 'movie'}]"
      ]
     },
     "execution_count": 6,
     "metadata": {},
     "output_type": "execute_result"
    }
   ],
   "source": [
    "api.runs.get(dataset_id=27, subject='sid000005',number=1)"
   ]
  },
  {
   "cell_type": "code",
   "execution_count": 7,
   "id": "annual-luxembourg",
   "metadata": {},
   "outputs": [],
   "source": [
    "#get the run number for just BUDAPEST, SUBJECT5, PART1\n",
    "run_id=api.runs.get(dataset_id=27, subject='sid000005',number=1)[0]['id']\n",
    "run_duration=api.runs.get(dataset_id=27, subject='sid000005',number=1)[0]['duration']"
   ]
  },
  {
   "cell_type": "code",
   "execution_count": null,
   "id": "directed-argentina",
   "metadata": {},
   "outputs": [],
   "source": []
  },
  {
   "cell_type": "code",
   "execution_count": 8,
   "id": "smoking-inclusion",
   "metadata": {},
   "outputs": [
    {
     "ename": "SyntaxError",
     "evalue": "unexpected EOF while parsing (<ipython-input-8-2d0fea57a0a6>, line 10)",
     "output_type": "error",
     "traceback": [
      "\u001b[0;36m  File \u001b[0;32m\"<ipython-input-8-2d0fea57a0a6>\"\u001b[0;36m, line \u001b[0;32m10\u001b[0m\n\u001b[0;31m    'source': 'fmriprep'},\u001b[0m\n\u001b[0m                          ^\u001b[0m\n\u001b[0;31mSyntaxError\u001b[0m\u001b[0;31m:\u001b[0m unexpected EOF while parsing\n"
     ]
    }
   ],
   "source": [
    "[{'dataset_id': 27,\n",
    "  'description': 'Average signal in CSF mask',\n",
    "  'id': 37048,\n",
    "  'max': 437.444,\n",
    "  'mean': 369.345,\n",
    "  'min': 287.63,\n",
    "  'name': 'csf',\n",
    "  'num_na': 0,\n",
    "  'private': False,\n",
    "  'source': 'fmriprep'},"
   ]
  },
  {
   "cell_type": "markdown",
   "id": "essential-extra",
   "metadata": {},
   "source": [
    "### get just the non-fmriprep predictors"
   ]
  },
  {
   "cell_type": "code",
   "execution_count": 9,
   "id": "breathing-convert",
   "metadata": {},
   "outputs": [
    {
     "name": "stdout",
     "output_type": "stream",
     "text": [
      "subtlexusfrequency_FREQcount extracted\n",
      "subtlexusfrequency_FREQlow extracted\n",
      "subtlexusfrequency_SUBTLWF extracted\n",
      "subtlexusfrequency_SUBTLCD extracted\n",
      "subtlexusfrequency_Dom_PoS_SUBTLEX extracted\n",
      "subtlexusfrequency_Percentage_dom_PoS extracted\n",
      "subtlexusfrequency_All_freqs_SUBTLEX extracted\n",
      "affect_V.Mean.Sum extracted\n",
      "affect_D.Mean.Sum extracted\n",
      "aoa_AoA_Kup extracted\n",
      "massiveauditorylexicaldecision_NumPhones extracted\n",
      "massiveauditorylexicaldecision_FreqCOCAspok extracted\n",
      "lancastersensorimotornorms_Auditory.mean extracted\n",
      "lancastersensorimotornorms_Haptic.mean extracted\n",
      "lancastersensorimotornorms_Olfactory.mean extracted\n",
      "lancastersensorimotornorms_Foot_leg.mean extracted\n",
      "lancastersensorimotornorms_Head.mean extracted\n",
      "lancastersensorimotornorms_Torso.mean extracted\n",
      "subtlexusfrequency_CDcount extracted\n",
      "subtlexusfrequency_Cdlow extracted\n",
      "subtlexusfrequency_Lg10WF extracted\n",
      "subtlexusfrequency_Lg10CD extracted\n",
      "subtlexusfrequency_Freq_dom_PoS_SUBTLEX extracted\n",
      "subtlexusfrequency_All_PoS_SUBTLEX extracted\n",
      "subtlexusfrequency_Zipf-value extracted\n",
      "affect_A.Mean.Sum extracted\n",
      "concreteness_Conc.M extracted\n",
      "massiveauditorylexicaldecision_NumSylls extracted\n",
      "massiveauditorylexicaldecision_Duration extracted\n",
      "massiveauditorylexicaldecision_PhonLev extracted\n",
      "lancastersensorimotornorms_Gustatory.mean extracted\n",
      "lancastersensorimotornorms_Interoceptive.mean extracted\n",
      "lancastersensorimotornorms_Visual.mean extracted\n",
      "lancastersensorimotornorms_Hand_arm.mean extracted\n",
      "lancastersensorimotornorms_Mouth.mean extracted\n",
      "BERTLM_pre_25_surprisal extracted\n",
      "mel_10 extracted\n",
      "abstract extracted\n",
      "action extracted\n",
      "adult extracted\n",
      "animal extracted\n",
      "architecture extracted\n",
      "art extracted\n",
      "blur extracted\n",
      "business extracted\n",
      "car extracted\n",
      "child extracted\n",
      "city extracted\n",
      "competition extracted\n",
      "creativity extracted\n",
      "dark extracted\n",
      "daylight extracted\n",
      "desktop extracted\n",
      "empty extracted\n",
      "equipment extracted\n",
      "face extracted\n",
      "fashion extracted\n",
      "furniture extracted\n",
      "girl extracted\n",
      "hand extracted\n",
      "horizontal extracted\n",
      "illustration extracted\n",
      "image extracted\n",
      "landscape extracted\n",
      "light extracted\n",
      "man extracted\n",
      "military extracted\n",
      "music extracted\n",
      "old extracted\n",
      "one extracted\n",
      "outdoors extracted\n",
      "brightness extracted\n",
      "vibrance extracted\n",
      "sharpness extracted\n",
      "portrait extracted\n",
      "recreation extracted\n",
      "retro extracted\n",
      "road extracted\n",
      "room extracted\n",
      "simplicity extracted\n",
      "sky extracted\n",
      "street extracted\n",
      "summer extracted\n",
      "sunset extracted\n",
      "technology extracted\n",
      "text extracted\n",
      "travel extracted\n",
      "two extracted\n",
      "vehicle extracted\n",
      "vertical extracted\n",
      "water extracted\n",
      "wear extracted\n",
      "wild extracted\n",
      "wildlife extracted\n",
      "woman extracted\n",
      "wood extracted\n",
      "writing extracted\n",
      "as-Music extracted\n",
      "as-Animal extracted\n",
      "as-Whistling extracted\n",
      "as-Vehicle extracted\n",
      "as-Wild animals extracted\n",
      "as-Thunderstorm extracted\n",
      "as-Noise extracted\n",
      "as-Fire extracted\n",
      "as-Water extracted\n",
      "as-Wind extracted\n",
      "as-Glass extracted\n",
      "as-Wood extracted\n",
      "as-Silence extracted\n",
      "as-Mechanisms extracted\n",
      "as-Alarm extracted\n",
      "as-Hands extracted\n",
      "as-Tools extracted\n",
      "speech extracted\n",
      "tool extracted\n",
      "rms extracted\n",
      "tonal_centroid_0 extracted\n",
      "face_count Collection: budapest_facenet_cw_min50_t53\n",
      "log_mean_time_since Collection: budapest_facenet_cw_min50_t53\n",
      "first_time_face Collection: budapest_facenet_cw_min50_t53\n",
      "any_faces Collection: budapest_facenet_cw_min50_t53\n",
      "log_max_time_since Collection: budapest_facenet_cw_min50_t53\n",
      "tonal_centroid_2 extracted\n",
      "tonal_centroid_3 extracted\n",
      "text_length extracted\n",
      "BERTLM_pre_25_entropy extracted\n",
      "tonal_centroid_4 extracted\n",
      "tonal_centroid_5 extracted\n",
      "chroma_cqt_0 extracted\n",
      "chroma_cqt_1 extracted\n",
      "chroma_cqt_2 extracted\n",
      "chroma_cqt_3 extracted\n",
      "chroma_cqt_5 extracted\n",
      "chroma_cqt_6 extracted\n",
      "chroma_cqt_7 extracted\n",
      "chroma_cqt_8 extracted\n",
      "chroma_cqt_9 extracted\n",
      "chroma_cqt_11 extracted\n",
      "as-Speech extracted\n",
      "mel_1 extracted\n",
      "mel_2 extracted\n",
      "mel_4 extracted\n",
      "mel_5 extracted\n",
      "mel_6 extracted\n",
      "mel_8 extracted\n",
      "mel_9 extracted\n",
      "mel_12 extracted\n",
      "mel_13 extracted\n",
      "mel_14 extracted\n",
      "mel_15 extracted\n",
      "mel_17 extracted\n",
      "mel_18 extracted\n",
      "mel_19 extracted\n",
      "mel_21 extracted\n",
      "mel_22 extracted\n",
      "mel_23 extracted\n",
      "mel_25 extracted\n",
      "mel_26 extracted\n",
      "mel_27 extracted\n",
      "mel_29 extracted\n",
      "mel_30 extracted\n",
      "mel_31 extracted\n",
      "mel_33 extracted\n",
      "mel_34 extracted\n",
      "mel_35 extracted\n",
      "mel_37 extracted\n",
      "mel_38 extracted\n",
      "mel_39 extracted\n",
      "mel_41 extracted\n",
      "mel_42 extracted\n",
      "mel_43 extracted\n",
      "mel_44 extracted\n",
      "mel_46 extracted\n",
      "mel_47 extracted\n",
      "mfcc_1 extracted\n",
      "mfcc_2 extracted\n",
      "mfcc_4 extracted\n",
      "mfcc_5 extracted\n",
      "mfcc_6 extracted\n",
      "mfcc_7 extracted\n",
      "mfcc_8 extracted\n",
      "mfcc_10 extracted\n",
      "mfcc_11 extracted\n",
      "mfcc_12 extracted\n",
      "mfcc_13 extracted\n",
      "mfcc_15 extracted\n",
      "mfcc_16 extracted\n",
      "mfcc_17 extracted\n",
      "mfcc_18 extracted\n",
      "alphabet extracted\n",
      "building extracted\n",
      "color extracted\n",
      "design extracted\n",
      "family extracted\n",
      "home extracted\n",
      "indoors extracted\n",
      "nature extracted\n",
      "pattern extracted\n",
      "shot_change extracted\n",
      "as-Explosion extracted\n",
      "as-Engine extracted\n",
      "as-Liquid extracted\n",
      "as-Musical instrument extracted\n",
      "people extracted\n",
      "tonal_centroid_1 extracted\n",
      "log_mean_face_time_cum Collection: budapest_facenet_cw_min50_t53\n",
      "log_max_face_time_cum Collection: budapest_facenet_cw_min50_t53\n",
      "spectral_centroid extracted\n",
      "chroma_cqt_4 extracted\n",
      "chroma_cqt_10 extracted\n",
      "mel_0 extracted\n",
      "mel_3 extracted\n",
      "mel_7 extracted\n",
      "mel_11 extracted\n",
      "mel_16 extracted\n",
      "mel_20 extracted\n",
      "mel_24 extracted\n",
      "mel_28 extracted\n",
      "mel_32 extracted\n",
      "mel_36 extracted\n",
      "mel_40 extracted\n",
      "mel_45 extracted\n",
      "mfcc_0 extracted\n",
      "mfcc_3 extracted\n",
      "mfcc_9 extracted\n",
      "mfcc_14 extracted\n",
      "mfcc_19 extracted\n"
     ]
    }
   ],
   "source": [
    "budapest_predictors=api.predictors.get(run_id=run_id)\n",
    "for i in budapest_predictors:\n",
    "    if not i['source'] == 'fmriprep':\n",
    "        print(i['name'],i['source'])\n"
   ]
  },
  {
   "cell_type": "markdown",
   "id": "painful-aberdeen",
   "metadata": {},
   "source": [
    "#### get ids and names of predictors?"
   ]
  },
  {
   "cell_type": "code",
   "execution_count": 19,
   "id": "julian-python",
   "metadata": {},
   "outputs": [],
   "source": [
    "budapest_predictor_ids = []\n",
    "budapest_predictor_names = []\n",
    "for i in budapest_predictors:\n",
    "    if not i['source'] == 'fmriprep':\n",
    "        budapest_predictor_ids.append(i['id'])\n",
    "        budapest_predictor_names.append(i['name'])"
   ]
  },
  {
   "cell_type": "markdown",
   "id": "decent-console",
   "metadata": {},
   "source": [
    "#### now get all of the predictors"
   ]
  },
  {
   "cell_type": "code",
   "execution_count": null,
   "id": "collaborative-recall",
   "metadata": {},
   "outputs": [],
   "source": [
    "#predictor_list will be a list of predictor lists of dicts\n",
    "predictor_list=[]\n",
    "for i in budapest_predictor_ids:\n",
    "    predictor_list.append(api.predictor_events.get(predictor_id=i))"
   ]
  },
  {
   "cell_type": "code",
   "execution_count": null,
   "id": "guided-breach",
   "metadata": {},
   "outputs": [],
   "source": [
    "sample_rates = []\n",
    "for i in predictor_list:\n",
    "    sample_rates.append(len(i)/run_duration)\n",
    "    "
   ]
  },
  {
   "cell_type": "code",
   "execution_count": null,
   "id": "characteristic-feedback",
   "metadata": {},
   "outputs": [],
   "source": []
  },
  {
   "cell_type": "markdown",
   "id": "complimentary-classification",
   "metadata": {},
   "source": [
    "#### what are the sample rates of the features?"
   ]
  },
  {
   "cell_type": "markdown",
   "id": "theoretical-finance",
   "metadata": {},
   "source": [
    "##### sample rates for all features are all 0.6454849498327759 which is (roughly) at the rate of 1.5 TR"
   ]
  },
  {
   "cell_type": "markdown",
   "id": "welsh-display",
   "metadata": {},
   "source": [
    "## now get all of the predictors into a np array for corr, cluster, budapest_predictor_idsetc"
   ]
  },
  {
   "cell_type": "code",
   "execution_count": 12,
   "id": "better-pulse",
   "metadata": {},
   "outputs": [],
   "source": [
    "budapest_events = []\n",
    "for i in budapest_predictor_ids:\n",
    "    budapest_events.append(api.predictor_events.get(i))\n"
   ]
  },
  {
   "cell_type": "code",
   "execution_count": 13,
   "id": "introductory-completion",
   "metadata": {
    "collapsed": true,
    "jupyter": {
     "outputs_hidden": true
    }
   },
   "outputs": [
    {
     "data": {
      "text/plain": [
       "[b'<!doctype html><html lang=\"en\"><head><meta charset=\"utf-8\"><meta name=\"viewport\" content=\"width=device-width,initial-scale=1\"><link rel=\"shortcut icon\" href=\"/static/favicon.ico\"><title>Neuroscout</title><link href=\"/static/css/main.ea40066e.css\" rel=\"stylesheet\"></head><body><div id=\"root\"></div><script type=\"text/javascript\" src=\"/static/js/main.9ea948a5.js\"></script></body></html>',\n",
       " b'<!doctype html><html lang=\"en\"><head><meta charset=\"utf-8\"><meta name=\"viewport\" content=\"width=device-width,initial-scale=1\"><link rel=\"shortcut icon\" href=\"/static/favicon.ico\"><title>Neuroscout</title><link href=\"/static/css/main.ea40066e.css\" rel=\"stylesheet\"></head><body><div id=\"root\"></div><script type=\"text/javascript\" src=\"/static/js/main.9ea948a5.js\"></script></body></html>',\n",
       " b'<!doctype html><html lang=\"en\"><head><meta charset=\"utf-8\"><meta name=\"viewport\" content=\"width=device-width,initial-scale=1\"><link rel=\"shortcut icon\" href=\"/static/favicon.ico\"><title>Neuroscout</title><link href=\"/static/css/main.ea40066e.css\" rel=\"stylesheet\"></head><body><div id=\"root\"></div><script type=\"text/javascript\" src=\"/static/js/main.9ea948a5.js\"></script></body></html>',\n",
       " b'<!doctype html><html lang=\"en\"><head><meta charset=\"utf-8\"><meta name=\"viewport\" content=\"width=device-width,initial-scale=1\"><link rel=\"shortcut icon\" href=\"/static/favicon.ico\"><title>Neuroscout</title><link href=\"/static/css/main.ea40066e.css\" rel=\"stylesheet\"></head><body><div id=\"root\"></div><script type=\"text/javascript\" src=\"/static/js/main.9ea948a5.js\"></script></body></html>',\n",
       " b'<!doctype html><html lang=\"en\"><head><meta charset=\"utf-8\"><meta name=\"viewport\" content=\"width=device-width,initial-scale=1\"><link rel=\"shortcut icon\" href=\"/static/favicon.ico\"><title>Neuroscout</title><link href=\"/static/css/main.ea40066e.css\" rel=\"stylesheet\"></head><body><div id=\"root\"></div><script type=\"text/javascript\" src=\"/static/js/main.9ea948a5.js\"></script></body></html>',\n",
       " b'<!doctype html><html lang=\"en\"><head><meta charset=\"utf-8\"><meta name=\"viewport\" content=\"width=device-width,initial-scale=1\"><link rel=\"shortcut icon\" href=\"/static/favicon.ico\"><title>Neuroscout</title><link href=\"/static/css/main.ea40066e.css\" rel=\"stylesheet\"></head><body><div id=\"root\"></div><script type=\"text/javascript\" src=\"/static/js/main.9ea948a5.js\"></script></body></html>',\n",
       " b'<!doctype html><html lang=\"en\"><head><meta charset=\"utf-8\"><meta name=\"viewport\" content=\"width=device-width,initial-scale=1\"><link rel=\"shortcut icon\" href=\"/static/favicon.ico\"><title>Neuroscout</title><link href=\"/static/css/main.ea40066e.css\" rel=\"stylesheet\"></head><body><div id=\"root\"></div><script type=\"text/javascript\" src=\"/static/js/main.9ea948a5.js\"></script></body></html>',\n",
       " b'<!doctype html><html lang=\"en\"><head><meta charset=\"utf-8\"><meta name=\"viewport\" content=\"width=device-width,initial-scale=1\"><link rel=\"shortcut icon\" href=\"/static/favicon.ico\"><title>Neuroscout</title><link href=\"/static/css/main.ea40066e.css\" rel=\"stylesheet\"></head><body><div id=\"root\"></div><script type=\"text/javascript\" src=\"/static/js/main.9ea948a5.js\"></script></body></html>',\n",
       " b'<!doctype html><html lang=\"en\"><head><meta charset=\"utf-8\"><meta name=\"viewport\" content=\"width=device-width,initial-scale=1\"><link rel=\"shortcut icon\" href=\"/static/favicon.ico\"><title>Neuroscout</title><link href=\"/static/css/main.ea40066e.css\" rel=\"stylesheet\"></head><body><div id=\"root\"></div><script type=\"text/javascript\" src=\"/static/js/main.9ea948a5.js\"></script></body></html>',\n",
       " b'<!doctype html><html lang=\"en\"><head><meta charset=\"utf-8\"><meta name=\"viewport\" content=\"width=device-width,initial-scale=1\"><link rel=\"shortcut icon\" href=\"/static/favicon.ico\"><title>Neuroscout</title><link href=\"/static/css/main.ea40066e.css\" rel=\"stylesheet\"></head><body><div id=\"root\"></div><script type=\"text/javascript\" src=\"/static/js/main.9ea948a5.js\"></script></body></html>',\n",
       " b'<!doctype html><html lang=\"en\"><head><meta charset=\"utf-8\"><meta name=\"viewport\" content=\"width=device-width,initial-scale=1\"><link rel=\"shortcut icon\" href=\"/static/favicon.ico\"><title>Neuroscout</title><link href=\"/static/css/main.ea40066e.css\" rel=\"stylesheet\"></head><body><div id=\"root\"></div><script type=\"text/javascript\" src=\"/static/js/main.9ea948a5.js\"></script></body></html>',\n",
       " b'<!doctype html><html lang=\"en\"><head><meta charset=\"utf-8\"><meta name=\"viewport\" content=\"width=device-width,initial-scale=1\"><link rel=\"shortcut icon\" href=\"/static/favicon.ico\"><title>Neuroscout</title><link href=\"/static/css/main.ea40066e.css\" rel=\"stylesheet\"></head><body><div id=\"root\"></div><script type=\"text/javascript\" src=\"/static/js/main.9ea948a5.js\"></script></body></html>',\n",
       " b'<!doctype html><html lang=\"en\"><head><meta charset=\"utf-8\"><meta name=\"viewport\" content=\"width=device-width,initial-scale=1\"><link rel=\"shortcut icon\" href=\"/static/favicon.ico\"><title>Neuroscout</title><link href=\"/static/css/main.ea40066e.css\" rel=\"stylesheet\"></head><body><div id=\"root\"></div><script type=\"text/javascript\" src=\"/static/js/main.9ea948a5.js\"></script></body></html>',\n",
       " b'<!doctype html><html lang=\"en\"><head><meta charset=\"utf-8\"><meta name=\"viewport\" content=\"width=device-width,initial-scale=1\"><link rel=\"shortcut icon\" href=\"/static/favicon.ico\"><title>Neuroscout</title><link href=\"/static/css/main.ea40066e.css\" rel=\"stylesheet\"></head><body><div id=\"root\"></div><script type=\"text/javascript\" src=\"/static/js/main.9ea948a5.js\"></script></body></html>',\n",
       " b'<!doctype html><html lang=\"en\"><head><meta charset=\"utf-8\"><meta name=\"viewport\" content=\"width=device-width,initial-scale=1\"><link rel=\"shortcut icon\" href=\"/static/favicon.ico\"><title>Neuroscout</title><link href=\"/static/css/main.ea40066e.css\" rel=\"stylesheet\"></head><body><div id=\"root\"></div><script type=\"text/javascript\" src=\"/static/js/main.9ea948a5.js\"></script></body></html>',\n",
       " b'<!doctype html><html lang=\"en\"><head><meta charset=\"utf-8\"><meta name=\"viewport\" content=\"width=device-width,initial-scale=1\"><link rel=\"shortcut icon\" href=\"/static/favicon.ico\"><title>Neuroscout</title><link href=\"/static/css/main.ea40066e.css\" rel=\"stylesheet\"></head><body><div id=\"root\"></div><script type=\"text/javascript\" src=\"/static/js/main.9ea948a5.js\"></script></body></html>',\n",
       " b'<!doctype html><html lang=\"en\"><head><meta charset=\"utf-8\"><meta name=\"viewport\" content=\"width=device-width,initial-scale=1\"><link rel=\"shortcut icon\" href=\"/static/favicon.ico\"><title>Neuroscout</title><link href=\"/static/css/main.ea40066e.css\" rel=\"stylesheet\"></head><body><div id=\"root\"></div><script type=\"text/javascript\" src=\"/static/js/main.9ea948a5.js\"></script></body></html>',\n",
       " b'<!doctype html><html lang=\"en\"><head><meta charset=\"utf-8\"><meta name=\"viewport\" content=\"width=device-width,initial-scale=1\"><link rel=\"shortcut icon\" href=\"/static/favicon.ico\"><title>Neuroscout</title><link href=\"/static/css/main.ea40066e.css\" rel=\"stylesheet\"></head><body><div id=\"root\"></div><script type=\"text/javascript\" src=\"/static/js/main.9ea948a5.js\"></script></body></html>',\n",
       " b'<!doctype html><html lang=\"en\"><head><meta charset=\"utf-8\"><meta name=\"viewport\" content=\"width=device-width,initial-scale=1\"><link rel=\"shortcut icon\" href=\"/static/favicon.ico\"><title>Neuroscout</title><link href=\"/static/css/main.ea40066e.css\" rel=\"stylesheet\"></head><body><div id=\"root\"></div><script type=\"text/javascript\" src=\"/static/js/main.9ea948a5.js\"></script></body></html>',\n",
       " b'<!doctype html><html lang=\"en\"><head><meta charset=\"utf-8\"><meta name=\"viewport\" content=\"width=device-width,initial-scale=1\"><link rel=\"shortcut icon\" href=\"/static/favicon.ico\"><title>Neuroscout</title><link href=\"/static/css/main.ea40066e.css\" rel=\"stylesheet\"></head><body><div id=\"root\"></div><script type=\"text/javascript\" src=\"/static/js/main.9ea948a5.js\"></script></body></html>',\n",
       " b'<!doctype html><html lang=\"en\"><head><meta charset=\"utf-8\"><meta name=\"viewport\" content=\"width=device-width,initial-scale=1\"><link rel=\"shortcut icon\" href=\"/static/favicon.ico\"><title>Neuroscout</title><link href=\"/static/css/main.ea40066e.css\" rel=\"stylesheet\"></head><body><div id=\"root\"></div><script type=\"text/javascript\" src=\"/static/js/main.9ea948a5.js\"></script></body></html>',\n",
       " b'<!doctype html><html lang=\"en\"><head><meta charset=\"utf-8\"><meta name=\"viewport\" content=\"width=device-width,initial-scale=1\"><link rel=\"shortcut icon\" href=\"/static/favicon.ico\"><title>Neuroscout</title><link href=\"/static/css/main.ea40066e.css\" rel=\"stylesheet\"></head><body><div id=\"root\"></div><script type=\"text/javascript\" src=\"/static/js/main.9ea948a5.js\"></script></body></html>',\n",
       " b'<!doctype html><html lang=\"en\"><head><meta charset=\"utf-8\"><meta name=\"viewport\" content=\"width=device-width,initial-scale=1\"><link rel=\"shortcut icon\" href=\"/static/favicon.ico\"><title>Neuroscout</title><link href=\"/static/css/main.ea40066e.css\" rel=\"stylesheet\"></head><body><div id=\"root\"></div><script type=\"text/javascript\" src=\"/static/js/main.9ea948a5.js\"></script></body></html>',\n",
       " b'<!doctype html><html lang=\"en\"><head><meta charset=\"utf-8\"><meta name=\"viewport\" content=\"width=device-width,initial-scale=1\"><link rel=\"shortcut icon\" href=\"/static/favicon.ico\"><title>Neuroscout</title><link href=\"/static/css/main.ea40066e.css\" rel=\"stylesheet\"></head><body><div id=\"root\"></div><script type=\"text/javascript\" src=\"/static/js/main.9ea948a5.js\"></script></body></html>',\n",
       " b'<!doctype html><html lang=\"en\"><head><meta charset=\"utf-8\"><meta name=\"viewport\" content=\"width=device-width,initial-scale=1\"><link rel=\"shortcut icon\" href=\"/static/favicon.ico\"><title>Neuroscout</title><link href=\"/static/css/main.ea40066e.css\" rel=\"stylesheet\"></head><body><div id=\"root\"></div><script type=\"text/javascript\" src=\"/static/js/main.9ea948a5.js\"></script></body></html>',\n",
       " b'<!doctype html><html lang=\"en\"><head><meta charset=\"utf-8\"><meta name=\"viewport\" content=\"width=device-width,initial-scale=1\"><link rel=\"shortcut icon\" href=\"/static/favicon.ico\"><title>Neuroscout</title><link href=\"/static/css/main.ea40066e.css\" rel=\"stylesheet\"></head><body><div id=\"root\"></div><script type=\"text/javascript\" src=\"/static/js/main.9ea948a5.js\"></script></body></html>',\n",
       " b'<!doctype html><html lang=\"en\"><head><meta charset=\"utf-8\"><meta name=\"viewport\" content=\"width=device-width,initial-scale=1\"><link rel=\"shortcut icon\" href=\"/static/favicon.ico\"><title>Neuroscout</title><link href=\"/static/css/main.ea40066e.css\" rel=\"stylesheet\"></head><body><div id=\"root\"></div><script type=\"text/javascript\" src=\"/static/js/main.9ea948a5.js\"></script></body></html>',\n",
       " b'<!doctype html><html lang=\"en\"><head><meta charset=\"utf-8\"><meta name=\"viewport\" content=\"width=device-width,initial-scale=1\"><link rel=\"shortcut icon\" href=\"/static/favicon.ico\"><title>Neuroscout</title><link href=\"/static/css/main.ea40066e.css\" rel=\"stylesheet\"></head><body><div id=\"root\"></div><script type=\"text/javascript\" src=\"/static/js/main.9ea948a5.js\"></script></body></html>',\n",
       " b'<!doctype html><html lang=\"en\"><head><meta charset=\"utf-8\"><meta name=\"viewport\" content=\"width=device-width,initial-scale=1\"><link rel=\"shortcut icon\" href=\"/static/favicon.ico\"><title>Neuroscout</title><link href=\"/static/css/main.ea40066e.css\" rel=\"stylesheet\"></head><body><div id=\"root\"></div><script type=\"text/javascript\" src=\"/static/js/main.9ea948a5.js\"></script></body></html>',\n",
       " b'<!doctype html><html lang=\"en\"><head><meta charset=\"utf-8\"><meta name=\"viewport\" content=\"width=device-width,initial-scale=1\"><link rel=\"shortcut icon\" href=\"/static/favicon.ico\"><title>Neuroscout</title><link href=\"/static/css/main.ea40066e.css\" rel=\"stylesheet\"></head><body><div id=\"root\"></div><script type=\"text/javascript\" src=\"/static/js/main.9ea948a5.js\"></script></body></html>',\n",
       " b'<!doctype html><html lang=\"en\"><head><meta charset=\"utf-8\"><meta name=\"viewport\" content=\"width=device-width,initial-scale=1\"><link rel=\"shortcut icon\" href=\"/static/favicon.ico\"><title>Neuroscout</title><link href=\"/static/css/main.ea40066e.css\" rel=\"stylesheet\"></head><body><div id=\"root\"></div><script type=\"text/javascript\" src=\"/static/js/main.9ea948a5.js\"></script></body></html>',\n",
       " b'<!doctype html><html lang=\"en\"><head><meta charset=\"utf-8\"><meta name=\"viewport\" content=\"width=device-width,initial-scale=1\"><link rel=\"shortcut icon\" href=\"/static/favicon.ico\"><title>Neuroscout</title><link href=\"/static/css/main.ea40066e.css\" rel=\"stylesheet\"></head><body><div id=\"root\"></div><script type=\"text/javascript\" src=\"/static/js/main.9ea948a5.js\"></script></body></html>',\n",
       " b'<!doctype html><html lang=\"en\"><head><meta charset=\"utf-8\"><meta name=\"viewport\" content=\"width=device-width,initial-scale=1\"><link rel=\"shortcut icon\" href=\"/static/favicon.ico\"><title>Neuroscout</title><link href=\"/static/css/main.ea40066e.css\" rel=\"stylesheet\"></head><body><div id=\"root\"></div><script type=\"text/javascript\" src=\"/static/js/main.9ea948a5.js\"></script></body></html>',\n",
       " b'<!doctype html><html lang=\"en\"><head><meta charset=\"utf-8\"><meta name=\"viewport\" content=\"width=device-width,initial-scale=1\"><link rel=\"shortcut icon\" href=\"/static/favicon.ico\"><title>Neuroscout</title><link href=\"/static/css/main.ea40066e.css\" rel=\"stylesheet\"></head><body><div id=\"root\"></div><script type=\"text/javascript\" src=\"/static/js/main.9ea948a5.js\"></script></body></html>',\n",
       " b'<!doctype html><html lang=\"en\"><head><meta charset=\"utf-8\"><meta name=\"viewport\" content=\"width=device-width,initial-scale=1\"><link rel=\"shortcut icon\" href=\"/static/favicon.ico\"><title>Neuroscout</title><link href=\"/static/css/main.ea40066e.css\" rel=\"stylesheet\"></head><body><div id=\"root\"></div><script type=\"text/javascript\" src=\"/static/js/main.9ea948a5.js\"></script></body></html>',\n",
       " b'<!doctype html><html lang=\"en\"><head><meta charset=\"utf-8\"><meta name=\"viewport\" content=\"width=device-width,initial-scale=1\"><link rel=\"shortcut icon\" href=\"/static/favicon.ico\"><title>Neuroscout</title><link href=\"/static/css/main.ea40066e.css\" rel=\"stylesheet\"></head><body><div id=\"root\"></div><script type=\"text/javascript\" src=\"/static/js/main.9ea948a5.js\"></script></body></html>',\n",
       " b'<!doctype html><html lang=\"en\"><head><meta charset=\"utf-8\"><meta name=\"viewport\" content=\"width=device-width,initial-scale=1\"><link rel=\"shortcut icon\" href=\"/static/favicon.ico\"><title>Neuroscout</title><link href=\"/static/css/main.ea40066e.css\" rel=\"stylesheet\"></head><body><div id=\"root\"></div><script type=\"text/javascript\" src=\"/static/js/main.9ea948a5.js\"></script></body></html>',\n",
       " b'<!doctype html><html lang=\"en\"><head><meta charset=\"utf-8\"><meta name=\"viewport\" content=\"width=device-width,initial-scale=1\"><link rel=\"shortcut icon\" href=\"/static/favicon.ico\"><title>Neuroscout</title><link href=\"/static/css/main.ea40066e.css\" rel=\"stylesheet\"></head><body><div id=\"root\"></div><script type=\"text/javascript\" src=\"/static/js/main.9ea948a5.js\"></script></body></html>',\n",
       " b'<!doctype html><html lang=\"en\"><head><meta charset=\"utf-8\"><meta name=\"viewport\" content=\"width=device-width,initial-scale=1\"><link rel=\"shortcut icon\" href=\"/static/favicon.ico\"><title>Neuroscout</title><link href=\"/static/css/main.ea40066e.css\" rel=\"stylesheet\"></head><body><div id=\"root\"></div><script type=\"text/javascript\" src=\"/static/js/main.9ea948a5.js\"></script></body></html>',\n",
       " b'<!doctype html><html lang=\"en\"><head><meta charset=\"utf-8\"><meta name=\"viewport\" content=\"width=device-width,initial-scale=1\"><link rel=\"shortcut icon\" href=\"/static/favicon.ico\"><title>Neuroscout</title><link href=\"/static/css/main.ea40066e.css\" rel=\"stylesheet\"></head><body><div id=\"root\"></div><script type=\"text/javascript\" src=\"/static/js/main.9ea948a5.js\"></script></body></html>',\n",
       " b'<!doctype html><html lang=\"en\"><head><meta charset=\"utf-8\"><meta name=\"viewport\" content=\"width=device-width,initial-scale=1\"><link rel=\"shortcut icon\" href=\"/static/favicon.ico\"><title>Neuroscout</title><link href=\"/static/css/main.ea40066e.css\" rel=\"stylesheet\"></head><body><div id=\"root\"></div><script type=\"text/javascript\" src=\"/static/js/main.9ea948a5.js\"></script></body></html>',\n",
       " b'<!doctype html><html lang=\"en\"><head><meta charset=\"utf-8\"><meta name=\"viewport\" content=\"width=device-width,initial-scale=1\"><link rel=\"shortcut icon\" href=\"/static/favicon.ico\"><title>Neuroscout</title><link href=\"/static/css/main.ea40066e.css\" rel=\"stylesheet\"></head><body><div id=\"root\"></div><script type=\"text/javascript\" src=\"/static/js/main.9ea948a5.js\"></script></body></html>',\n",
       " b'<!doctype html><html lang=\"en\"><head><meta charset=\"utf-8\"><meta name=\"viewport\" content=\"width=device-width,initial-scale=1\"><link rel=\"shortcut icon\" href=\"/static/favicon.ico\"><title>Neuroscout</title><link href=\"/static/css/main.ea40066e.css\" rel=\"stylesheet\"></head><body><div id=\"root\"></div><script type=\"text/javascript\" src=\"/static/js/main.9ea948a5.js\"></script></body></html>',\n",
       " b'<!doctype html><html lang=\"en\"><head><meta charset=\"utf-8\"><meta name=\"viewport\" content=\"width=device-width,initial-scale=1\"><link rel=\"shortcut icon\" href=\"/static/favicon.ico\"><title>Neuroscout</title><link href=\"/static/css/main.ea40066e.css\" rel=\"stylesheet\"></head><body><div id=\"root\"></div><script type=\"text/javascript\" src=\"/static/js/main.9ea948a5.js\"></script></body></html>',\n",
       " b'<!doctype html><html lang=\"en\"><head><meta charset=\"utf-8\"><meta name=\"viewport\" content=\"width=device-width,initial-scale=1\"><link rel=\"shortcut icon\" href=\"/static/favicon.ico\"><title>Neuroscout</title><link href=\"/static/css/main.ea40066e.css\" rel=\"stylesheet\"></head><body><div id=\"root\"></div><script type=\"text/javascript\" src=\"/static/js/main.9ea948a5.js\"></script></body></html>',\n",
       " b'<!doctype html><html lang=\"en\"><head><meta charset=\"utf-8\"><meta name=\"viewport\" content=\"width=device-width,initial-scale=1\"><link rel=\"shortcut icon\" href=\"/static/favicon.ico\"><title>Neuroscout</title><link href=\"/static/css/main.ea40066e.css\" rel=\"stylesheet\"></head><body><div id=\"root\"></div><script type=\"text/javascript\" src=\"/static/js/main.9ea948a5.js\"></script></body></html>',\n",
       " b'<!doctype html><html lang=\"en\"><head><meta charset=\"utf-8\"><meta name=\"viewport\" content=\"width=device-width,initial-scale=1\"><link rel=\"shortcut icon\" href=\"/static/favicon.ico\"><title>Neuroscout</title><link href=\"/static/css/main.ea40066e.css\" rel=\"stylesheet\"></head><body><div id=\"root\"></div><script type=\"text/javascript\" src=\"/static/js/main.9ea948a5.js\"></script></body></html>',\n",
       " b'<!doctype html><html lang=\"en\"><head><meta charset=\"utf-8\"><meta name=\"viewport\" content=\"width=device-width,initial-scale=1\"><link rel=\"shortcut icon\" href=\"/static/favicon.ico\"><title>Neuroscout</title><link href=\"/static/css/main.ea40066e.css\" rel=\"stylesheet\"></head><body><div id=\"root\"></div><script type=\"text/javascript\" src=\"/static/js/main.9ea948a5.js\"></script></body></html>',\n",
       " b'<!doctype html><html lang=\"en\"><head><meta charset=\"utf-8\"><meta name=\"viewport\" content=\"width=device-width,initial-scale=1\"><link rel=\"shortcut icon\" href=\"/static/favicon.ico\"><title>Neuroscout</title><link href=\"/static/css/main.ea40066e.css\" rel=\"stylesheet\"></head><body><div id=\"root\"></div><script type=\"text/javascript\" src=\"/static/js/main.9ea948a5.js\"></script></body></html>',\n",
       " b'<!doctype html><html lang=\"en\"><head><meta charset=\"utf-8\"><meta name=\"viewport\" content=\"width=device-width,initial-scale=1\"><link rel=\"shortcut icon\" href=\"/static/favicon.ico\"><title>Neuroscout</title><link href=\"/static/css/main.ea40066e.css\" rel=\"stylesheet\"></head><body><div id=\"root\"></div><script type=\"text/javascript\" src=\"/static/js/main.9ea948a5.js\"></script></body></html>',\n",
       " b'<!doctype html><html lang=\"en\"><head><meta charset=\"utf-8\"><meta name=\"viewport\" content=\"width=device-width,initial-scale=1\"><link rel=\"shortcut icon\" href=\"/static/favicon.ico\"><title>Neuroscout</title><link href=\"/static/css/main.ea40066e.css\" rel=\"stylesheet\"></head><body><div id=\"root\"></div><script type=\"text/javascript\" src=\"/static/js/main.9ea948a5.js\"></script></body></html>',\n",
       " b'<!doctype html><html lang=\"en\"><head><meta charset=\"utf-8\"><meta name=\"viewport\" content=\"width=device-width,initial-scale=1\"><link rel=\"shortcut icon\" href=\"/static/favicon.ico\"><title>Neuroscout</title><link href=\"/static/css/main.ea40066e.css\" rel=\"stylesheet\"></head><body><div id=\"root\"></div><script type=\"text/javascript\" src=\"/static/js/main.9ea948a5.js\"></script></body></html>',\n",
       " b'<!doctype html><html lang=\"en\"><head><meta charset=\"utf-8\"><meta name=\"viewport\" content=\"width=device-width,initial-scale=1\"><link rel=\"shortcut icon\" href=\"/static/favicon.ico\"><title>Neuroscout</title><link href=\"/static/css/main.ea40066e.css\" rel=\"stylesheet\"></head><body><div id=\"root\"></div><script type=\"text/javascript\" src=\"/static/js/main.9ea948a5.js\"></script></body></html>',\n",
       " b'<!doctype html><html lang=\"en\"><head><meta charset=\"utf-8\"><meta name=\"viewport\" content=\"width=device-width,initial-scale=1\"><link rel=\"shortcut icon\" href=\"/static/favicon.ico\"><title>Neuroscout</title><link href=\"/static/css/main.ea40066e.css\" rel=\"stylesheet\"></head><body><div id=\"root\"></div><script type=\"text/javascript\" src=\"/static/js/main.9ea948a5.js\"></script></body></html>',\n",
       " b'<!doctype html><html lang=\"en\"><head><meta charset=\"utf-8\"><meta name=\"viewport\" content=\"width=device-width,initial-scale=1\"><link rel=\"shortcut icon\" href=\"/static/favicon.ico\"><title>Neuroscout</title><link href=\"/static/css/main.ea40066e.css\" rel=\"stylesheet\"></head><body><div id=\"root\"></div><script type=\"text/javascript\" src=\"/static/js/main.9ea948a5.js\"></script></body></html>',\n",
       " b'<!doctype html><html lang=\"en\"><head><meta charset=\"utf-8\"><meta name=\"viewport\" content=\"width=device-width,initial-scale=1\"><link rel=\"shortcut icon\" href=\"/static/favicon.ico\"><title>Neuroscout</title><link href=\"/static/css/main.ea40066e.css\" rel=\"stylesheet\"></head><body><div id=\"root\"></div><script type=\"text/javascript\" src=\"/static/js/main.9ea948a5.js\"></script></body></html>',\n",
       " b'<!doctype html><html lang=\"en\"><head><meta charset=\"utf-8\"><meta name=\"viewport\" content=\"width=device-width,initial-scale=1\"><link rel=\"shortcut icon\" href=\"/static/favicon.ico\"><title>Neuroscout</title><link href=\"/static/css/main.ea40066e.css\" rel=\"stylesheet\"></head><body><div id=\"root\"></div><script type=\"text/javascript\" src=\"/static/js/main.9ea948a5.js\"></script></body></html>',\n",
       " b'<!doctype html><html lang=\"en\"><head><meta charset=\"utf-8\"><meta name=\"viewport\" content=\"width=device-width,initial-scale=1\"><link rel=\"shortcut icon\" href=\"/static/favicon.ico\"><title>Neuroscout</title><link href=\"/static/css/main.ea40066e.css\" rel=\"stylesheet\"></head><body><div id=\"root\"></div><script type=\"text/javascript\" src=\"/static/js/main.9ea948a5.js\"></script></body></html>',\n",
       " b'<!doctype html><html lang=\"en\"><head><meta charset=\"utf-8\"><meta name=\"viewport\" content=\"width=device-width,initial-scale=1\"><link rel=\"shortcut icon\" href=\"/static/favicon.ico\"><title>Neuroscout</title><link href=\"/static/css/main.ea40066e.css\" rel=\"stylesheet\"></head><body><div id=\"root\"></div><script type=\"text/javascript\" src=\"/static/js/main.9ea948a5.js\"></script></body></html>',\n",
       " b'<!doctype html><html lang=\"en\"><head><meta charset=\"utf-8\"><meta name=\"viewport\" content=\"width=device-width,initial-scale=1\"><link rel=\"shortcut icon\" href=\"/static/favicon.ico\"><title>Neuroscout</title><link href=\"/static/css/main.ea40066e.css\" rel=\"stylesheet\"></head><body><div id=\"root\"></div><script type=\"text/javascript\" src=\"/static/js/main.9ea948a5.js\"></script></body></html>',\n",
       " b'<!doctype html><html lang=\"en\"><head><meta charset=\"utf-8\"><meta name=\"viewport\" content=\"width=device-width,initial-scale=1\"><link rel=\"shortcut icon\" href=\"/static/favicon.ico\"><title>Neuroscout</title><link href=\"/static/css/main.ea40066e.css\" rel=\"stylesheet\"></head><body><div id=\"root\"></div><script type=\"text/javascript\" src=\"/static/js/main.9ea948a5.js\"></script></body></html>',\n",
       " b'<!doctype html><html lang=\"en\"><head><meta charset=\"utf-8\"><meta name=\"viewport\" content=\"width=device-width,initial-scale=1\"><link rel=\"shortcut icon\" href=\"/static/favicon.ico\"><title>Neuroscout</title><link href=\"/static/css/main.ea40066e.css\" rel=\"stylesheet\"></head><body><div id=\"root\"></div><script type=\"text/javascript\" src=\"/static/js/main.9ea948a5.js\"></script></body></html>',\n",
       " b'<!doctype html><html lang=\"en\"><head><meta charset=\"utf-8\"><meta name=\"viewport\" content=\"width=device-width,initial-scale=1\"><link rel=\"shortcut icon\" href=\"/static/favicon.ico\"><title>Neuroscout</title><link href=\"/static/css/main.ea40066e.css\" rel=\"stylesheet\"></head><body><div id=\"root\"></div><script type=\"text/javascript\" src=\"/static/js/main.9ea948a5.js\"></script></body></html>',\n",
       " b'<!doctype html><html lang=\"en\"><head><meta charset=\"utf-8\"><meta name=\"viewport\" content=\"width=device-width,initial-scale=1\"><link rel=\"shortcut icon\" href=\"/static/favicon.ico\"><title>Neuroscout</title><link href=\"/static/css/main.ea40066e.css\" rel=\"stylesheet\"></head><body><div id=\"root\"></div><script type=\"text/javascript\" src=\"/static/js/main.9ea948a5.js\"></script></body></html>',\n",
       " b'<!doctype html><html lang=\"en\"><head><meta charset=\"utf-8\"><meta name=\"viewport\" content=\"width=device-width,initial-scale=1\"><link rel=\"shortcut icon\" href=\"/static/favicon.ico\"><title>Neuroscout</title><link href=\"/static/css/main.ea40066e.css\" rel=\"stylesheet\"></head><body><div id=\"root\"></div><script type=\"text/javascript\" src=\"/static/js/main.9ea948a5.js\"></script></body></html>',\n",
       " b'<!doctype html><html lang=\"en\"><head><meta charset=\"utf-8\"><meta name=\"viewport\" content=\"width=device-width,initial-scale=1\"><link rel=\"shortcut icon\" href=\"/static/favicon.ico\"><title>Neuroscout</title><link href=\"/static/css/main.ea40066e.css\" rel=\"stylesheet\"></head><body><div id=\"root\"></div><script type=\"text/javascript\" src=\"/static/js/main.9ea948a5.js\"></script></body></html>',\n",
       " b'<!doctype html><html lang=\"en\"><head><meta charset=\"utf-8\"><meta name=\"viewport\" content=\"width=device-width,initial-scale=1\"><link rel=\"shortcut icon\" href=\"/static/favicon.ico\"><title>Neuroscout</title><link href=\"/static/css/main.ea40066e.css\" rel=\"stylesheet\"></head><body><div id=\"root\"></div><script type=\"text/javascript\" src=\"/static/js/main.9ea948a5.js\"></script></body></html>',\n",
       " b'<!doctype html><html lang=\"en\"><head><meta charset=\"utf-8\"><meta name=\"viewport\" content=\"width=device-width,initial-scale=1\"><link rel=\"shortcut icon\" href=\"/static/favicon.ico\"><title>Neuroscout</title><link href=\"/static/css/main.ea40066e.css\" rel=\"stylesheet\"></head><body><div id=\"root\"></div><script type=\"text/javascript\" src=\"/static/js/main.9ea948a5.js\"></script></body></html>',\n",
       " b'<!doctype html><html lang=\"en\"><head><meta charset=\"utf-8\"><meta name=\"viewport\" content=\"width=device-width,initial-scale=1\"><link rel=\"shortcut icon\" href=\"/static/favicon.ico\"><title>Neuroscout</title><link href=\"/static/css/main.ea40066e.css\" rel=\"stylesheet\"></head><body><div id=\"root\"></div><script type=\"text/javascript\" src=\"/static/js/main.9ea948a5.js\"></script></body></html>',\n",
       " b'<!doctype html><html lang=\"en\"><head><meta charset=\"utf-8\"><meta name=\"viewport\" content=\"width=device-width,initial-scale=1\"><link rel=\"shortcut icon\" href=\"/static/favicon.ico\"><title>Neuroscout</title><link href=\"/static/css/main.ea40066e.css\" rel=\"stylesheet\"></head><body><div id=\"root\"></div><script type=\"text/javascript\" src=\"/static/js/main.9ea948a5.js\"></script></body></html>',\n",
       " b'<!doctype html><html lang=\"en\"><head><meta charset=\"utf-8\"><meta name=\"viewport\" content=\"width=device-width,initial-scale=1\"><link rel=\"shortcut icon\" href=\"/static/favicon.ico\"><title>Neuroscout</title><link href=\"/static/css/main.ea40066e.css\" rel=\"stylesheet\"></head><body><div id=\"root\"></div><script type=\"text/javascript\" src=\"/static/js/main.9ea948a5.js\"></script></body></html>',\n",
       " b'<!doctype html><html lang=\"en\"><head><meta charset=\"utf-8\"><meta name=\"viewport\" content=\"width=device-width,initial-scale=1\"><link rel=\"shortcut icon\" href=\"/static/favicon.ico\"><title>Neuroscout</title><link href=\"/static/css/main.ea40066e.css\" rel=\"stylesheet\"></head><body><div id=\"root\"></div><script type=\"text/javascript\" src=\"/static/js/main.9ea948a5.js\"></script></body></html>',\n",
       " b'<!doctype html><html lang=\"en\"><head><meta charset=\"utf-8\"><meta name=\"viewport\" content=\"width=device-width,initial-scale=1\"><link rel=\"shortcut icon\" href=\"/static/favicon.ico\"><title>Neuroscout</title><link href=\"/static/css/main.ea40066e.css\" rel=\"stylesheet\"></head><body><div id=\"root\"></div><script type=\"text/javascript\" src=\"/static/js/main.9ea948a5.js\"></script></body></html>',\n",
       " b'<!doctype html><html lang=\"en\"><head><meta charset=\"utf-8\"><meta name=\"viewport\" content=\"width=device-width,initial-scale=1\"><link rel=\"shortcut icon\" href=\"/static/favicon.ico\"><title>Neuroscout</title><link href=\"/static/css/main.ea40066e.css\" rel=\"stylesheet\"></head><body><div id=\"root\"></div><script type=\"text/javascript\" src=\"/static/js/main.9ea948a5.js\"></script></body></html>',\n",
       " b'<!doctype html><html lang=\"en\"><head><meta charset=\"utf-8\"><meta name=\"viewport\" content=\"width=device-width,initial-scale=1\"><link rel=\"shortcut icon\" href=\"/static/favicon.ico\"><title>Neuroscout</title><link href=\"/static/css/main.ea40066e.css\" rel=\"stylesheet\"></head><body><div id=\"root\"></div><script type=\"text/javascript\" src=\"/static/js/main.9ea948a5.js\"></script></body></html>',\n",
       " b'<!doctype html><html lang=\"en\"><head><meta charset=\"utf-8\"><meta name=\"viewport\" content=\"width=device-width,initial-scale=1\"><link rel=\"shortcut icon\" href=\"/static/favicon.ico\"><title>Neuroscout</title><link href=\"/static/css/main.ea40066e.css\" rel=\"stylesheet\"></head><body><div id=\"root\"></div><script type=\"text/javascript\" src=\"/static/js/main.9ea948a5.js\"></script></body></html>',\n",
       " b'<!doctype html><html lang=\"en\"><head><meta charset=\"utf-8\"><meta name=\"viewport\" content=\"width=device-width,initial-scale=1\"><link rel=\"shortcut icon\" href=\"/static/favicon.ico\"><title>Neuroscout</title><link href=\"/static/css/main.ea40066e.css\" rel=\"stylesheet\"></head><body><div id=\"root\"></div><script type=\"text/javascript\" src=\"/static/js/main.9ea948a5.js\"></script></body></html>',\n",
       " b'<!doctype html><html lang=\"en\"><head><meta charset=\"utf-8\"><meta name=\"viewport\" content=\"width=device-width,initial-scale=1\"><link rel=\"shortcut icon\" href=\"/static/favicon.ico\"><title>Neuroscout</title><link href=\"/static/css/main.ea40066e.css\" rel=\"stylesheet\"></head><body><div id=\"root\"></div><script type=\"text/javascript\" src=\"/static/js/main.9ea948a5.js\"></script></body></html>',\n",
       " b'<!doctype html><html lang=\"en\"><head><meta charset=\"utf-8\"><meta name=\"viewport\" content=\"width=device-width,initial-scale=1\"><link rel=\"shortcut icon\" href=\"/static/favicon.ico\"><title>Neuroscout</title><link href=\"/static/css/main.ea40066e.css\" rel=\"stylesheet\"></head><body><div id=\"root\"></div><script type=\"text/javascript\" src=\"/static/js/main.9ea948a5.js\"></script></body></html>',\n",
       " b'<!doctype html><html lang=\"en\"><head><meta charset=\"utf-8\"><meta name=\"viewport\" content=\"width=device-width,initial-scale=1\"><link rel=\"shortcut icon\" href=\"/static/favicon.ico\"><title>Neuroscout</title><link href=\"/static/css/main.ea40066e.css\" rel=\"stylesheet\"></head><body><div id=\"root\"></div><script type=\"text/javascript\" src=\"/static/js/main.9ea948a5.js\"></script></body></html>',\n",
       " b'<!doctype html><html lang=\"en\"><head><meta charset=\"utf-8\"><meta name=\"viewport\" content=\"width=device-width,initial-scale=1\"><link rel=\"shortcut icon\" href=\"/static/favicon.ico\"><title>Neuroscout</title><link href=\"/static/css/main.ea40066e.css\" rel=\"stylesheet\"></head><body><div id=\"root\"></div><script type=\"text/javascript\" src=\"/static/js/main.9ea948a5.js\"></script></body></html>',\n",
       " b'<!doctype html><html lang=\"en\"><head><meta charset=\"utf-8\"><meta name=\"viewport\" content=\"width=device-width,initial-scale=1\"><link rel=\"shortcut icon\" href=\"/static/favicon.ico\"><title>Neuroscout</title><link href=\"/static/css/main.ea40066e.css\" rel=\"stylesheet\"></head><body><div id=\"root\"></div><script type=\"text/javascript\" src=\"/static/js/main.9ea948a5.js\"></script></body></html>',\n",
       " b'<!doctype html><html lang=\"en\"><head><meta charset=\"utf-8\"><meta name=\"viewport\" content=\"width=device-width,initial-scale=1\"><link rel=\"shortcut icon\" href=\"/static/favicon.ico\"><title>Neuroscout</title><link href=\"/static/css/main.ea40066e.css\" rel=\"stylesheet\"></head><body><div id=\"root\"></div><script type=\"text/javascript\" src=\"/static/js/main.9ea948a5.js\"></script></body></html>',\n",
       " b'<!doctype html><html lang=\"en\"><head><meta charset=\"utf-8\"><meta name=\"viewport\" content=\"width=device-width,initial-scale=1\"><link rel=\"shortcut icon\" href=\"/static/favicon.ico\"><title>Neuroscout</title><link href=\"/static/css/main.ea40066e.css\" rel=\"stylesheet\"></head><body><div id=\"root\"></div><script type=\"text/javascript\" src=\"/static/js/main.9ea948a5.js\"></script></body></html>',\n",
       " b'<!doctype html><html lang=\"en\"><head><meta charset=\"utf-8\"><meta name=\"viewport\" content=\"width=device-width,initial-scale=1\"><link rel=\"shortcut icon\" href=\"/static/favicon.ico\"><title>Neuroscout</title><link href=\"/static/css/main.ea40066e.css\" rel=\"stylesheet\"></head><body><div id=\"root\"></div><script type=\"text/javascript\" src=\"/static/js/main.9ea948a5.js\"></script></body></html>',\n",
       " b'<!doctype html><html lang=\"en\"><head><meta charset=\"utf-8\"><meta name=\"viewport\" content=\"width=device-width,initial-scale=1\"><link rel=\"shortcut icon\" href=\"/static/favicon.ico\"><title>Neuroscout</title><link href=\"/static/css/main.ea40066e.css\" rel=\"stylesheet\"></head><body><div id=\"root\"></div><script type=\"text/javascript\" src=\"/static/js/main.9ea948a5.js\"></script></body></html>',\n",
       " b'<!doctype html><html lang=\"en\"><head><meta charset=\"utf-8\"><meta name=\"viewport\" content=\"width=device-width,initial-scale=1\"><link rel=\"shortcut icon\" href=\"/static/favicon.ico\"><title>Neuroscout</title><link href=\"/static/css/main.ea40066e.css\" rel=\"stylesheet\"></head><body><div id=\"root\"></div><script type=\"text/javascript\" src=\"/static/js/main.9ea948a5.js\"></script></body></html>',\n",
       " b'<!doctype html><html lang=\"en\"><head><meta charset=\"utf-8\"><meta name=\"viewport\" content=\"width=device-width,initial-scale=1\"><link rel=\"shortcut icon\" href=\"/static/favicon.ico\"><title>Neuroscout</title><link href=\"/static/css/main.ea40066e.css\" rel=\"stylesheet\"></head><body><div id=\"root\"></div><script type=\"text/javascript\" src=\"/static/js/main.9ea948a5.js\"></script></body></html>',\n",
       " b'<!doctype html><html lang=\"en\"><head><meta charset=\"utf-8\"><meta name=\"viewport\" content=\"width=device-width,initial-scale=1\"><link rel=\"shortcut icon\" href=\"/static/favicon.ico\"><title>Neuroscout</title><link href=\"/static/css/main.ea40066e.css\" rel=\"stylesheet\"></head><body><div id=\"root\"></div><script type=\"text/javascript\" src=\"/static/js/main.9ea948a5.js\"></script></body></html>',\n",
       " b'<!doctype html><html lang=\"en\"><head><meta charset=\"utf-8\"><meta name=\"viewport\" content=\"width=device-width,initial-scale=1\"><link rel=\"shortcut icon\" href=\"/static/favicon.ico\"><title>Neuroscout</title><link href=\"/static/css/main.ea40066e.css\" rel=\"stylesheet\"></head><body><div id=\"root\"></div><script type=\"text/javascript\" src=\"/static/js/main.9ea948a5.js\"></script></body></html>',\n",
       " b'<!doctype html><html lang=\"en\"><head><meta charset=\"utf-8\"><meta name=\"viewport\" content=\"width=device-width,initial-scale=1\"><link rel=\"shortcut icon\" href=\"/static/favicon.ico\"><title>Neuroscout</title><link href=\"/static/css/main.ea40066e.css\" rel=\"stylesheet\"></head><body><div id=\"root\"></div><script type=\"text/javascript\" src=\"/static/js/main.9ea948a5.js\"></script></body></html>',\n",
       " b'<!doctype html><html lang=\"en\"><head><meta charset=\"utf-8\"><meta name=\"viewport\" content=\"width=device-width,initial-scale=1\"><link rel=\"shortcut icon\" href=\"/static/favicon.ico\"><title>Neuroscout</title><link href=\"/static/css/main.ea40066e.css\" rel=\"stylesheet\"></head><body><div id=\"root\"></div><script type=\"text/javascript\" src=\"/static/js/main.9ea948a5.js\"></script></body></html>',\n",
       " b'<!doctype html><html lang=\"en\"><head><meta charset=\"utf-8\"><meta name=\"viewport\" content=\"width=device-width,initial-scale=1\"><link rel=\"shortcut icon\" href=\"/static/favicon.ico\"><title>Neuroscout</title><link href=\"/static/css/main.ea40066e.css\" rel=\"stylesheet\"></head><body><div id=\"root\"></div><script type=\"text/javascript\" src=\"/static/js/main.9ea948a5.js\"></script></body></html>',\n",
       " b'<!doctype html><html lang=\"en\"><head><meta charset=\"utf-8\"><meta name=\"viewport\" content=\"width=device-width,initial-scale=1\"><link rel=\"shortcut icon\" href=\"/static/favicon.ico\"><title>Neuroscout</title><link href=\"/static/css/main.ea40066e.css\" rel=\"stylesheet\"></head><body><div id=\"root\"></div><script type=\"text/javascript\" src=\"/static/js/main.9ea948a5.js\"></script></body></html>',\n",
       " b'<!doctype html><html lang=\"en\"><head><meta charset=\"utf-8\"><meta name=\"viewport\" content=\"width=device-width,initial-scale=1\"><link rel=\"shortcut icon\" href=\"/static/favicon.ico\"><title>Neuroscout</title><link href=\"/static/css/main.ea40066e.css\" rel=\"stylesheet\"></head><body><div id=\"root\"></div><script type=\"text/javascript\" src=\"/static/js/main.9ea948a5.js\"></script></body></html>',\n",
       " b'<!doctype html><html lang=\"en\"><head><meta charset=\"utf-8\"><meta name=\"viewport\" content=\"width=device-width,initial-scale=1\"><link rel=\"shortcut icon\" href=\"/static/favicon.ico\"><title>Neuroscout</title><link href=\"/static/css/main.ea40066e.css\" rel=\"stylesheet\"></head><body><div id=\"root\"></div><script type=\"text/javascript\" src=\"/static/js/main.9ea948a5.js\"></script></body></html>',\n",
       " b'<!doctype html><html lang=\"en\"><head><meta charset=\"utf-8\"><meta name=\"viewport\" content=\"width=device-width,initial-scale=1\"><link rel=\"shortcut icon\" href=\"/static/favicon.ico\"><title>Neuroscout</title><link href=\"/static/css/main.ea40066e.css\" rel=\"stylesheet\"></head><body><div id=\"root\"></div><script type=\"text/javascript\" src=\"/static/js/main.9ea948a5.js\"></script></body></html>',\n",
       " b'<!doctype html><html lang=\"en\"><head><meta charset=\"utf-8\"><meta name=\"viewport\" content=\"width=device-width,initial-scale=1\"><link rel=\"shortcut icon\" href=\"/static/favicon.ico\"><title>Neuroscout</title><link href=\"/static/css/main.ea40066e.css\" rel=\"stylesheet\"></head><body><div id=\"root\"></div><script type=\"text/javascript\" src=\"/static/js/main.9ea948a5.js\"></script></body></html>',\n",
       " b'<!doctype html><html lang=\"en\"><head><meta charset=\"utf-8\"><meta name=\"viewport\" content=\"width=device-width,initial-scale=1\"><link rel=\"shortcut icon\" href=\"/static/favicon.ico\"><title>Neuroscout</title><link href=\"/static/css/main.ea40066e.css\" rel=\"stylesheet\"></head><body><div id=\"root\"></div><script type=\"text/javascript\" src=\"/static/js/main.9ea948a5.js\"></script></body></html>',\n",
       " b'<!doctype html><html lang=\"en\"><head><meta charset=\"utf-8\"><meta name=\"viewport\" content=\"width=device-width,initial-scale=1\"><link rel=\"shortcut icon\" href=\"/static/favicon.ico\"><title>Neuroscout</title><link href=\"/static/css/main.ea40066e.css\" rel=\"stylesheet\"></head><body><div id=\"root\"></div><script type=\"text/javascript\" src=\"/static/js/main.9ea948a5.js\"></script></body></html>',\n",
       " b'<!doctype html><html lang=\"en\"><head><meta charset=\"utf-8\"><meta name=\"viewport\" content=\"width=device-width,initial-scale=1\"><link rel=\"shortcut icon\" href=\"/static/favicon.ico\"><title>Neuroscout</title><link href=\"/static/css/main.ea40066e.css\" rel=\"stylesheet\"></head><body><div id=\"root\"></div><script type=\"text/javascript\" src=\"/static/js/main.9ea948a5.js\"></script></body></html>',\n",
       " b'<!doctype html><html lang=\"en\"><head><meta charset=\"utf-8\"><meta name=\"viewport\" content=\"width=device-width,initial-scale=1\"><link rel=\"shortcut icon\" href=\"/static/favicon.ico\"><title>Neuroscout</title><link href=\"/static/css/main.ea40066e.css\" rel=\"stylesheet\"></head><body><div id=\"root\"></div><script type=\"text/javascript\" src=\"/static/js/main.9ea948a5.js\"></script></body></html>',\n",
       " b'<!doctype html><html lang=\"en\"><head><meta charset=\"utf-8\"><meta name=\"viewport\" content=\"width=device-width,initial-scale=1\"><link rel=\"shortcut icon\" href=\"/static/favicon.ico\"><title>Neuroscout</title><link href=\"/static/css/main.ea40066e.css\" rel=\"stylesheet\"></head><body><div id=\"root\"></div><script type=\"text/javascript\" src=\"/static/js/main.9ea948a5.js\"></script></body></html>',\n",
       " b'<!doctype html><html lang=\"en\"><head><meta charset=\"utf-8\"><meta name=\"viewport\" content=\"width=device-width,initial-scale=1\"><link rel=\"shortcut icon\" href=\"/static/favicon.ico\"><title>Neuroscout</title><link href=\"/static/css/main.ea40066e.css\" rel=\"stylesheet\"></head><body><div id=\"root\"></div><script type=\"text/javascript\" src=\"/static/js/main.9ea948a5.js\"></script></body></html>',\n",
       " b'<!doctype html><html lang=\"en\"><head><meta charset=\"utf-8\"><meta name=\"viewport\" content=\"width=device-width,initial-scale=1\"><link rel=\"shortcut icon\" href=\"/static/favicon.ico\"><title>Neuroscout</title><link href=\"/static/css/main.ea40066e.css\" rel=\"stylesheet\"></head><body><div id=\"root\"></div><script type=\"text/javascript\" src=\"/static/js/main.9ea948a5.js\"></script></body></html>',\n",
       " b'<!doctype html><html lang=\"en\"><head><meta charset=\"utf-8\"><meta name=\"viewport\" content=\"width=device-width,initial-scale=1\"><link rel=\"shortcut icon\" href=\"/static/favicon.ico\"><title>Neuroscout</title><link href=\"/static/css/main.ea40066e.css\" rel=\"stylesheet\"></head><body><div id=\"root\"></div><script type=\"text/javascript\" src=\"/static/js/main.9ea948a5.js\"></script></body></html>',\n",
       " b'<!doctype html><html lang=\"en\"><head><meta charset=\"utf-8\"><meta name=\"viewport\" content=\"width=device-width,initial-scale=1\"><link rel=\"shortcut icon\" href=\"/static/favicon.ico\"><title>Neuroscout</title><link href=\"/static/css/main.ea40066e.css\" rel=\"stylesheet\"></head><body><div id=\"root\"></div><script type=\"text/javascript\" src=\"/static/js/main.9ea948a5.js\"></script></body></html>',\n",
       " b'<!doctype html><html lang=\"en\"><head><meta charset=\"utf-8\"><meta name=\"viewport\" content=\"width=device-width,initial-scale=1\"><link rel=\"shortcut icon\" href=\"/static/favicon.ico\"><title>Neuroscout</title><link href=\"/static/css/main.ea40066e.css\" rel=\"stylesheet\"></head><body><div id=\"root\"></div><script type=\"text/javascript\" src=\"/static/js/main.9ea948a5.js\"></script></body></html>',\n",
       " b'<!doctype html><html lang=\"en\"><head><meta charset=\"utf-8\"><meta name=\"viewport\" content=\"width=device-width,initial-scale=1\"><link rel=\"shortcut icon\" href=\"/static/favicon.ico\"><title>Neuroscout</title><link href=\"/static/css/main.ea40066e.css\" rel=\"stylesheet\"></head><body><div id=\"root\"></div><script type=\"text/javascript\" src=\"/static/js/main.9ea948a5.js\"></script></body></html>',\n",
       " b'<!doctype html><html lang=\"en\"><head><meta charset=\"utf-8\"><meta name=\"viewport\" content=\"width=device-width,initial-scale=1\"><link rel=\"shortcut icon\" href=\"/static/favicon.ico\"><title>Neuroscout</title><link href=\"/static/css/main.ea40066e.css\" rel=\"stylesheet\"></head><body><div id=\"root\"></div><script type=\"text/javascript\" src=\"/static/js/main.9ea948a5.js\"></script></body></html>',\n",
       " b'<!doctype html><html lang=\"en\"><head><meta charset=\"utf-8\"><meta name=\"viewport\" content=\"width=device-width,initial-scale=1\"><link rel=\"shortcut icon\" href=\"/static/favicon.ico\"><title>Neuroscout</title><link href=\"/static/css/main.ea40066e.css\" rel=\"stylesheet\"></head><body><div id=\"root\"></div><script type=\"text/javascript\" src=\"/static/js/main.9ea948a5.js\"></script></body></html>',\n",
       " b'<!doctype html><html lang=\"en\"><head><meta charset=\"utf-8\"><meta name=\"viewport\" content=\"width=device-width,initial-scale=1\"><link rel=\"shortcut icon\" href=\"/static/favicon.ico\"><title>Neuroscout</title><link href=\"/static/css/main.ea40066e.css\" rel=\"stylesheet\"></head><body><div id=\"root\"></div><script type=\"text/javascript\" src=\"/static/js/main.9ea948a5.js\"></script></body></html>',\n",
       " b'<!doctype html><html lang=\"en\"><head><meta charset=\"utf-8\"><meta name=\"viewport\" content=\"width=device-width,initial-scale=1\"><link rel=\"shortcut icon\" href=\"/static/favicon.ico\"><title>Neuroscout</title><link href=\"/static/css/main.ea40066e.css\" rel=\"stylesheet\"></head><body><div id=\"root\"></div><script type=\"text/javascript\" src=\"/static/js/main.9ea948a5.js\"></script></body></html>',\n",
       " b'<!doctype html><html lang=\"en\"><head><meta charset=\"utf-8\"><meta name=\"viewport\" content=\"width=device-width,initial-scale=1\"><link rel=\"shortcut icon\" href=\"/static/favicon.ico\"><title>Neuroscout</title><link href=\"/static/css/main.ea40066e.css\" rel=\"stylesheet\"></head><body><div id=\"root\"></div><script type=\"text/javascript\" src=\"/static/js/main.9ea948a5.js\"></script></body></html>',\n",
       " b'<!doctype html><html lang=\"en\"><head><meta charset=\"utf-8\"><meta name=\"viewport\" content=\"width=device-width,initial-scale=1\"><link rel=\"shortcut icon\" href=\"/static/favicon.ico\"><title>Neuroscout</title><link href=\"/static/css/main.ea40066e.css\" rel=\"stylesheet\"></head><body><div id=\"root\"></div><script type=\"text/javascript\" src=\"/static/js/main.9ea948a5.js\"></script></body></html>',\n",
       " b'<!doctype html><html lang=\"en\"><head><meta charset=\"utf-8\"><meta name=\"viewport\" content=\"width=device-width,initial-scale=1\"><link rel=\"shortcut icon\" href=\"/static/favicon.ico\"><title>Neuroscout</title><link href=\"/static/css/main.ea40066e.css\" rel=\"stylesheet\"></head><body><div id=\"root\"></div><script type=\"text/javascript\" src=\"/static/js/main.9ea948a5.js\"></script></body></html>',\n",
       " b'<!doctype html><html lang=\"en\"><head><meta charset=\"utf-8\"><meta name=\"viewport\" content=\"width=device-width,initial-scale=1\"><link rel=\"shortcut icon\" href=\"/static/favicon.ico\"><title>Neuroscout</title><link href=\"/static/css/main.ea40066e.css\" rel=\"stylesheet\"></head><body><div id=\"root\"></div><script type=\"text/javascript\" src=\"/static/js/main.9ea948a5.js\"></script></body></html>',\n",
       " b'<!doctype html><html lang=\"en\"><head><meta charset=\"utf-8\"><meta name=\"viewport\" content=\"width=device-width,initial-scale=1\"><link rel=\"shortcut icon\" href=\"/static/favicon.ico\"><title>Neuroscout</title><link href=\"/static/css/main.ea40066e.css\" rel=\"stylesheet\"></head><body><div id=\"root\"></div><script type=\"text/javascript\" src=\"/static/js/main.9ea948a5.js\"></script></body></html>',\n",
       " b'<!doctype html><html lang=\"en\"><head><meta charset=\"utf-8\"><meta name=\"viewport\" content=\"width=device-width,initial-scale=1\"><link rel=\"shortcut icon\" href=\"/static/favicon.ico\"><title>Neuroscout</title><link href=\"/static/css/main.ea40066e.css\" rel=\"stylesheet\"></head><body><div id=\"root\"></div><script type=\"text/javascript\" src=\"/static/js/main.9ea948a5.js\"></script></body></html>',\n",
       " b'<!doctype html><html lang=\"en\"><head><meta charset=\"utf-8\"><meta name=\"viewport\" content=\"width=device-width,initial-scale=1\"><link rel=\"shortcut icon\" href=\"/static/favicon.ico\"><title>Neuroscout</title><link href=\"/static/css/main.ea40066e.css\" rel=\"stylesheet\"></head><body><div id=\"root\"></div><script type=\"text/javascript\" src=\"/static/js/main.9ea948a5.js\"></script></body></html>',\n",
       " b'<!doctype html><html lang=\"en\"><head><meta charset=\"utf-8\"><meta name=\"viewport\" content=\"width=device-width,initial-scale=1\"><link rel=\"shortcut icon\" href=\"/static/favicon.ico\"><title>Neuroscout</title><link href=\"/static/css/main.ea40066e.css\" rel=\"stylesheet\"></head><body><div id=\"root\"></div><script type=\"text/javascript\" src=\"/static/js/main.9ea948a5.js\"></script></body></html>',\n",
       " b'<!doctype html><html lang=\"en\"><head><meta charset=\"utf-8\"><meta name=\"viewport\" content=\"width=device-width,initial-scale=1\"><link rel=\"shortcut icon\" href=\"/static/favicon.ico\"><title>Neuroscout</title><link href=\"/static/css/main.ea40066e.css\" rel=\"stylesheet\"></head><body><div id=\"root\"></div><script type=\"text/javascript\" src=\"/static/js/main.9ea948a5.js\"></script></body></html>',\n",
       " b'<!doctype html><html lang=\"en\"><head><meta charset=\"utf-8\"><meta name=\"viewport\" content=\"width=device-width,initial-scale=1\"><link rel=\"shortcut icon\" href=\"/static/favicon.ico\"><title>Neuroscout</title><link href=\"/static/css/main.ea40066e.css\" rel=\"stylesheet\"></head><body><div id=\"root\"></div><script type=\"text/javascript\" src=\"/static/js/main.9ea948a5.js\"></script></body></html>',\n",
       " b'<!doctype html><html lang=\"en\"><head><meta charset=\"utf-8\"><meta name=\"viewport\" content=\"width=device-width,initial-scale=1\"><link rel=\"shortcut icon\" href=\"/static/favicon.ico\"><title>Neuroscout</title><link href=\"/static/css/main.ea40066e.css\" rel=\"stylesheet\"></head><body><div id=\"root\"></div><script type=\"text/javascript\" src=\"/static/js/main.9ea948a5.js\"></script></body></html>',\n",
       " b'<!doctype html><html lang=\"en\"><head><meta charset=\"utf-8\"><meta name=\"viewport\" content=\"width=device-width,initial-scale=1\"><link rel=\"shortcut icon\" href=\"/static/favicon.ico\"><title>Neuroscout</title><link href=\"/static/css/main.ea40066e.css\" rel=\"stylesheet\"></head><body><div id=\"root\"></div><script type=\"text/javascript\" src=\"/static/js/main.9ea948a5.js\"></script></body></html>',\n",
       " b'<!doctype html><html lang=\"en\"><head><meta charset=\"utf-8\"><meta name=\"viewport\" content=\"width=device-width,initial-scale=1\"><link rel=\"shortcut icon\" href=\"/static/favicon.ico\"><title>Neuroscout</title><link href=\"/static/css/main.ea40066e.css\" rel=\"stylesheet\"></head><body><div id=\"root\"></div><script type=\"text/javascript\" src=\"/static/js/main.9ea948a5.js\"></script></body></html>',\n",
       " b'<!doctype html><html lang=\"en\"><head><meta charset=\"utf-8\"><meta name=\"viewport\" content=\"width=device-width,initial-scale=1\"><link rel=\"shortcut icon\" href=\"/static/favicon.ico\"><title>Neuroscout</title><link href=\"/static/css/main.ea40066e.css\" rel=\"stylesheet\"></head><body><div id=\"root\"></div><script type=\"text/javascript\" src=\"/static/js/main.9ea948a5.js\"></script></body></html>',\n",
       " b'<!doctype html><html lang=\"en\"><head><meta charset=\"utf-8\"><meta name=\"viewport\" content=\"width=device-width,initial-scale=1\"><link rel=\"shortcut icon\" href=\"/static/favicon.ico\"><title>Neuroscout</title><link href=\"/static/css/main.ea40066e.css\" rel=\"stylesheet\"></head><body><div id=\"root\"></div><script type=\"text/javascript\" src=\"/static/js/main.9ea948a5.js\"></script></body></html>',\n",
       " b'<!doctype html><html lang=\"en\"><head><meta charset=\"utf-8\"><meta name=\"viewport\" content=\"width=device-width,initial-scale=1\"><link rel=\"shortcut icon\" href=\"/static/favicon.ico\"><title>Neuroscout</title><link href=\"/static/css/main.ea40066e.css\" rel=\"stylesheet\"></head><body><div id=\"root\"></div><script type=\"text/javascript\" src=\"/static/js/main.9ea948a5.js\"></script></body></html>',\n",
       " b'<!doctype html><html lang=\"en\"><head><meta charset=\"utf-8\"><meta name=\"viewport\" content=\"width=device-width,initial-scale=1\"><link rel=\"shortcut icon\" href=\"/static/favicon.ico\"><title>Neuroscout</title><link href=\"/static/css/main.ea40066e.css\" rel=\"stylesheet\"></head><body><div id=\"root\"></div><script type=\"text/javascript\" src=\"/static/js/main.9ea948a5.js\"></script></body></html>',\n",
       " b'<!doctype html><html lang=\"en\"><head><meta charset=\"utf-8\"><meta name=\"viewport\" content=\"width=device-width,initial-scale=1\"><link rel=\"shortcut icon\" href=\"/static/favicon.ico\"><title>Neuroscout</title><link href=\"/static/css/main.ea40066e.css\" rel=\"stylesheet\"></head><body><div id=\"root\"></div><script type=\"text/javascript\" src=\"/static/js/main.9ea948a5.js\"></script></body></html>',\n",
       " b'<!doctype html><html lang=\"en\"><head><meta charset=\"utf-8\"><meta name=\"viewport\" content=\"width=device-width,initial-scale=1\"><link rel=\"shortcut icon\" href=\"/static/favicon.ico\"><title>Neuroscout</title><link href=\"/static/css/main.ea40066e.css\" rel=\"stylesheet\"></head><body><div id=\"root\"></div><script type=\"text/javascript\" src=\"/static/js/main.9ea948a5.js\"></script></body></html>',\n",
       " b'<!doctype html><html lang=\"en\"><head><meta charset=\"utf-8\"><meta name=\"viewport\" content=\"width=device-width,initial-scale=1\"><link rel=\"shortcut icon\" href=\"/static/favicon.ico\"><title>Neuroscout</title><link href=\"/static/css/main.ea40066e.css\" rel=\"stylesheet\"></head><body><div id=\"root\"></div><script type=\"text/javascript\" src=\"/static/js/main.9ea948a5.js\"></script></body></html>',\n",
       " b'<!doctype html><html lang=\"en\"><head><meta charset=\"utf-8\"><meta name=\"viewport\" content=\"width=device-width,initial-scale=1\"><link rel=\"shortcut icon\" href=\"/static/favicon.ico\"><title>Neuroscout</title><link href=\"/static/css/main.ea40066e.css\" rel=\"stylesheet\"></head><body><div id=\"root\"></div><script type=\"text/javascript\" src=\"/static/js/main.9ea948a5.js\"></script></body></html>',\n",
       " b'<!doctype html><html lang=\"en\"><head><meta charset=\"utf-8\"><meta name=\"viewport\" content=\"width=device-width,initial-scale=1\"><link rel=\"shortcut icon\" href=\"/static/favicon.ico\"><title>Neuroscout</title><link href=\"/static/css/main.ea40066e.css\" rel=\"stylesheet\"></head><body><div id=\"root\"></div><script type=\"text/javascript\" src=\"/static/js/main.9ea948a5.js\"></script></body></html>',\n",
       " b'<!doctype html><html lang=\"en\"><head><meta charset=\"utf-8\"><meta name=\"viewport\" content=\"width=device-width,initial-scale=1\"><link rel=\"shortcut icon\" href=\"/static/favicon.ico\"><title>Neuroscout</title><link href=\"/static/css/main.ea40066e.css\" rel=\"stylesheet\"></head><body><div id=\"root\"></div><script type=\"text/javascript\" src=\"/static/js/main.9ea948a5.js\"></script></body></html>',\n",
       " b'<!doctype html><html lang=\"en\"><head><meta charset=\"utf-8\"><meta name=\"viewport\" content=\"width=device-width,initial-scale=1\"><link rel=\"shortcut icon\" href=\"/static/favicon.ico\"><title>Neuroscout</title><link href=\"/static/css/main.ea40066e.css\" rel=\"stylesheet\"></head><body><div id=\"root\"></div><script type=\"text/javascript\" src=\"/static/js/main.9ea948a5.js\"></script></body></html>',\n",
       " b'<!doctype html><html lang=\"en\"><head><meta charset=\"utf-8\"><meta name=\"viewport\" content=\"width=device-width,initial-scale=1\"><link rel=\"shortcut icon\" href=\"/static/favicon.ico\"><title>Neuroscout</title><link href=\"/static/css/main.ea40066e.css\" rel=\"stylesheet\"></head><body><div id=\"root\"></div><script type=\"text/javascript\" src=\"/static/js/main.9ea948a5.js\"></script></body></html>',\n",
       " b'<!doctype html><html lang=\"en\"><head><meta charset=\"utf-8\"><meta name=\"viewport\" content=\"width=device-width,initial-scale=1\"><link rel=\"shortcut icon\" href=\"/static/favicon.ico\"><title>Neuroscout</title><link href=\"/static/css/main.ea40066e.css\" rel=\"stylesheet\"></head><body><div id=\"root\"></div><script type=\"text/javascript\" src=\"/static/js/main.9ea948a5.js\"></script></body></html>',\n",
       " b'<!doctype html><html lang=\"en\"><head><meta charset=\"utf-8\"><meta name=\"viewport\" content=\"width=device-width,initial-scale=1\"><link rel=\"shortcut icon\" href=\"/static/favicon.ico\"><title>Neuroscout</title><link href=\"/static/css/main.ea40066e.css\" rel=\"stylesheet\"></head><body><div id=\"root\"></div><script type=\"text/javascript\" src=\"/static/js/main.9ea948a5.js\"></script></body></html>',\n",
       " b'<!doctype html><html lang=\"en\"><head><meta charset=\"utf-8\"><meta name=\"viewport\" content=\"width=device-width,initial-scale=1\"><link rel=\"shortcut icon\" href=\"/static/favicon.ico\"><title>Neuroscout</title><link href=\"/static/css/main.ea40066e.css\" rel=\"stylesheet\"></head><body><div id=\"root\"></div><script type=\"text/javascript\" src=\"/static/js/main.9ea948a5.js\"></script></body></html>',\n",
       " b'<!doctype html><html lang=\"en\"><head><meta charset=\"utf-8\"><meta name=\"viewport\" content=\"width=device-width,initial-scale=1\"><link rel=\"shortcut icon\" href=\"/static/favicon.ico\"><title>Neuroscout</title><link href=\"/static/css/main.ea40066e.css\" rel=\"stylesheet\"></head><body><div id=\"root\"></div><script type=\"text/javascript\" src=\"/static/js/main.9ea948a5.js\"></script></body></html>',\n",
       " b'<!doctype html><html lang=\"en\"><head><meta charset=\"utf-8\"><meta name=\"viewport\" content=\"width=device-width,initial-scale=1\"><link rel=\"shortcut icon\" href=\"/static/favicon.ico\"><title>Neuroscout</title><link href=\"/static/css/main.ea40066e.css\" rel=\"stylesheet\"></head><body><div id=\"root\"></div><script type=\"text/javascript\" src=\"/static/js/main.9ea948a5.js\"></script></body></html>',\n",
       " b'<!doctype html><html lang=\"en\"><head><meta charset=\"utf-8\"><meta name=\"viewport\" content=\"width=device-width,initial-scale=1\"><link rel=\"shortcut icon\" href=\"/static/favicon.ico\"><title>Neuroscout</title><link href=\"/static/css/main.ea40066e.css\" rel=\"stylesheet\"></head><body><div id=\"root\"></div><script type=\"text/javascript\" src=\"/static/js/main.9ea948a5.js\"></script></body></html>',\n",
       " b'<!doctype html><html lang=\"en\"><head><meta charset=\"utf-8\"><meta name=\"viewport\" content=\"width=device-width,initial-scale=1\"><link rel=\"shortcut icon\" href=\"/static/favicon.ico\"><title>Neuroscout</title><link href=\"/static/css/main.ea40066e.css\" rel=\"stylesheet\"></head><body><div id=\"root\"></div><script type=\"text/javascript\" src=\"/static/js/main.9ea948a5.js\"></script></body></html>',\n",
       " b'<!doctype html><html lang=\"en\"><head><meta charset=\"utf-8\"><meta name=\"viewport\" content=\"width=device-width,initial-scale=1\"><link rel=\"shortcut icon\" href=\"/static/favicon.ico\"><title>Neuroscout</title><link href=\"/static/css/main.ea40066e.css\" rel=\"stylesheet\"></head><body><div id=\"root\"></div><script type=\"text/javascript\" src=\"/static/js/main.9ea948a5.js\"></script></body></html>',\n",
       " b'<!doctype html><html lang=\"en\"><head><meta charset=\"utf-8\"><meta name=\"viewport\" content=\"width=device-width,initial-scale=1\"><link rel=\"shortcut icon\" href=\"/static/favicon.ico\"><title>Neuroscout</title><link href=\"/static/css/main.ea40066e.css\" rel=\"stylesheet\"></head><body><div id=\"root\"></div><script type=\"text/javascript\" src=\"/static/js/main.9ea948a5.js\"></script></body></html>',\n",
       " b'<!doctype html><html lang=\"en\"><head><meta charset=\"utf-8\"><meta name=\"viewport\" content=\"width=device-width,initial-scale=1\"><link rel=\"shortcut icon\" href=\"/static/favicon.ico\"><title>Neuroscout</title><link href=\"/static/css/main.ea40066e.css\" rel=\"stylesheet\"></head><body><div id=\"root\"></div><script type=\"text/javascript\" src=\"/static/js/main.9ea948a5.js\"></script></body></html>',\n",
       " b'<!doctype html><html lang=\"en\"><head><meta charset=\"utf-8\"><meta name=\"viewport\" content=\"width=device-width,initial-scale=1\"><link rel=\"shortcut icon\" href=\"/static/favicon.ico\"><title>Neuroscout</title><link href=\"/static/css/main.ea40066e.css\" rel=\"stylesheet\"></head><body><div id=\"root\"></div><script type=\"text/javascript\" src=\"/static/js/main.9ea948a5.js\"></script></body></html>',\n",
       " b'<!doctype html><html lang=\"en\"><head><meta charset=\"utf-8\"><meta name=\"viewport\" content=\"width=device-width,initial-scale=1\"><link rel=\"shortcut icon\" href=\"/static/favicon.ico\"><title>Neuroscout</title><link href=\"/static/css/main.ea40066e.css\" rel=\"stylesheet\"></head><body><div id=\"root\"></div><script type=\"text/javascript\" src=\"/static/js/main.9ea948a5.js\"></script></body></html>',\n",
       " b'<!doctype html><html lang=\"en\"><head><meta charset=\"utf-8\"><meta name=\"viewport\" content=\"width=device-width,initial-scale=1\"><link rel=\"shortcut icon\" href=\"/static/favicon.ico\"><title>Neuroscout</title><link href=\"/static/css/main.ea40066e.css\" rel=\"stylesheet\"></head><body><div id=\"root\"></div><script type=\"text/javascript\" src=\"/static/js/main.9ea948a5.js\"></script></body></html>',\n",
       " b'<!doctype html><html lang=\"en\"><head><meta charset=\"utf-8\"><meta name=\"viewport\" content=\"width=device-width,initial-scale=1\"><link rel=\"shortcut icon\" href=\"/static/favicon.ico\"><title>Neuroscout</title><link href=\"/static/css/main.ea40066e.css\" rel=\"stylesheet\"></head><body><div id=\"root\"></div><script type=\"text/javascript\" src=\"/static/js/main.9ea948a5.js\"></script></body></html>',\n",
       " b'<!doctype html><html lang=\"en\"><head><meta charset=\"utf-8\"><meta name=\"viewport\" content=\"width=device-width,initial-scale=1\"><link rel=\"shortcut icon\" href=\"/static/favicon.ico\"><title>Neuroscout</title><link href=\"/static/css/main.ea40066e.css\" rel=\"stylesheet\"></head><body><div id=\"root\"></div><script type=\"text/javascript\" src=\"/static/js/main.9ea948a5.js\"></script></body></html>',\n",
       " b'<!doctype html><html lang=\"en\"><head><meta charset=\"utf-8\"><meta name=\"viewport\" content=\"width=device-width,initial-scale=1\"><link rel=\"shortcut icon\" href=\"/static/favicon.ico\"><title>Neuroscout</title><link href=\"/static/css/main.ea40066e.css\" rel=\"stylesheet\"></head><body><div id=\"root\"></div><script type=\"text/javascript\" src=\"/static/js/main.9ea948a5.js\"></script></body></html>',\n",
       " b'<!doctype html><html lang=\"en\"><head><meta charset=\"utf-8\"><meta name=\"viewport\" content=\"width=device-width,initial-scale=1\"><link rel=\"shortcut icon\" href=\"/static/favicon.ico\"><title>Neuroscout</title><link href=\"/static/css/main.ea40066e.css\" rel=\"stylesheet\"></head><body><div id=\"root\"></div><script type=\"text/javascript\" src=\"/static/js/main.9ea948a5.js\"></script></body></html>',\n",
       " b'<!doctype html><html lang=\"en\"><head><meta charset=\"utf-8\"><meta name=\"viewport\" content=\"width=device-width,initial-scale=1\"><link rel=\"shortcut icon\" href=\"/static/favicon.ico\"><title>Neuroscout</title><link href=\"/static/css/main.ea40066e.css\" rel=\"stylesheet\"></head><body><div id=\"root\"></div><script type=\"text/javascript\" src=\"/static/js/main.9ea948a5.js\"></script></body></html>',\n",
       " b'<!doctype html><html lang=\"en\"><head><meta charset=\"utf-8\"><meta name=\"viewport\" content=\"width=device-width,initial-scale=1\"><link rel=\"shortcut icon\" href=\"/static/favicon.ico\"><title>Neuroscout</title><link href=\"/static/css/main.ea40066e.css\" rel=\"stylesheet\"></head><body><div id=\"root\"></div><script type=\"text/javascript\" src=\"/static/js/main.9ea948a5.js\"></script></body></html>',\n",
       " b'<!doctype html><html lang=\"en\"><head><meta charset=\"utf-8\"><meta name=\"viewport\" content=\"width=device-width,initial-scale=1\"><link rel=\"shortcut icon\" href=\"/static/favicon.ico\"><title>Neuroscout</title><link href=\"/static/css/main.ea40066e.css\" rel=\"stylesheet\"></head><body><div id=\"root\"></div><script type=\"text/javascript\" src=\"/static/js/main.9ea948a5.js\"></script></body></html>',\n",
       " b'<!doctype html><html lang=\"en\"><head><meta charset=\"utf-8\"><meta name=\"viewport\" content=\"width=device-width,initial-scale=1\"><link rel=\"shortcut icon\" href=\"/static/favicon.ico\"><title>Neuroscout</title><link href=\"/static/css/main.ea40066e.css\" rel=\"stylesheet\"></head><body><div id=\"root\"></div><script type=\"text/javascript\" src=\"/static/js/main.9ea948a5.js\"></script></body></html>',\n",
       " b'<!doctype html><html lang=\"en\"><head><meta charset=\"utf-8\"><meta name=\"viewport\" content=\"width=device-width,initial-scale=1\"><link rel=\"shortcut icon\" href=\"/static/favicon.ico\"><title>Neuroscout</title><link href=\"/static/css/main.ea40066e.css\" rel=\"stylesheet\"></head><body><div id=\"root\"></div><script type=\"text/javascript\" src=\"/static/js/main.9ea948a5.js\"></script></body></html>',\n",
       " b'<!doctype html><html lang=\"en\"><head><meta charset=\"utf-8\"><meta name=\"viewport\" content=\"width=device-width,initial-scale=1\"><link rel=\"shortcut icon\" href=\"/static/favicon.ico\"><title>Neuroscout</title><link href=\"/static/css/main.ea40066e.css\" rel=\"stylesheet\"></head><body><div id=\"root\"></div><script type=\"text/javascript\" src=\"/static/js/main.9ea948a5.js\"></script></body></html>',\n",
       " b'<!doctype html><html lang=\"en\"><head><meta charset=\"utf-8\"><meta name=\"viewport\" content=\"width=device-width,initial-scale=1\"><link rel=\"shortcut icon\" href=\"/static/favicon.ico\"><title>Neuroscout</title><link href=\"/static/css/main.ea40066e.css\" rel=\"stylesheet\"></head><body><div id=\"root\"></div><script type=\"text/javascript\" src=\"/static/js/main.9ea948a5.js\"></script></body></html>',\n",
       " b'<!doctype html><html lang=\"en\"><head><meta charset=\"utf-8\"><meta name=\"viewport\" content=\"width=device-width,initial-scale=1\"><link rel=\"shortcut icon\" href=\"/static/favicon.ico\"><title>Neuroscout</title><link href=\"/static/css/main.ea40066e.css\" rel=\"stylesheet\"></head><body><div id=\"root\"></div><script type=\"text/javascript\" src=\"/static/js/main.9ea948a5.js\"></script></body></html>',\n",
       " b'<!doctype html><html lang=\"en\"><head><meta charset=\"utf-8\"><meta name=\"viewport\" content=\"width=device-width,initial-scale=1\"><link rel=\"shortcut icon\" href=\"/static/favicon.ico\"><title>Neuroscout</title><link href=\"/static/css/main.ea40066e.css\" rel=\"stylesheet\"></head><body><div id=\"root\"></div><script type=\"text/javascript\" src=\"/static/js/main.9ea948a5.js\"></script></body></html>',\n",
       " b'<!doctype html><html lang=\"en\"><head><meta charset=\"utf-8\"><meta name=\"viewport\" content=\"width=device-width,initial-scale=1\"><link rel=\"shortcut icon\" href=\"/static/favicon.ico\"><title>Neuroscout</title><link href=\"/static/css/main.ea40066e.css\" rel=\"stylesheet\"></head><body><div id=\"root\"></div><script type=\"text/javascript\" src=\"/static/js/main.9ea948a5.js\"></script></body></html>',\n",
       " b'<!doctype html><html lang=\"en\"><head><meta charset=\"utf-8\"><meta name=\"viewport\" content=\"width=device-width,initial-scale=1\"><link rel=\"shortcut icon\" href=\"/static/favicon.ico\"><title>Neuroscout</title><link href=\"/static/css/main.ea40066e.css\" rel=\"stylesheet\"></head><body><div id=\"root\"></div><script type=\"text/javascript\" src=\"/static/js/main.9ea948a5.js\"></script></body></html>',\n",
       " b'<!doctype html><html lang=\"en\"><head><meta charset=\"utf-8\"><meta name=\"viewport\" content=\"width=device-width,initial-scale=1\"><link rel=\"shortcut icon\" href=\"/static/favicon.ico\"><title>Neuroscout</title><link href=\"/static/css/main.ea40066e.css\" rel=\"stylesheet\"></head><body><div id=\"root\"></div><script type=\"text/javascript\" src=\"/static/js/main.9ea948a5.js\"></script></body></html>',\n",
       " b'<!doctype html><html lang=\"en\"><head><meta charset=\"utf-8\"><meta name=\"viewport\" content=\"width=device-width,initial-scale=1\"><link rel=\"shortcut icon\" href=\"/static/favicon.ico\"><title>Neuroscout</title><link href=\"/static/css/main.ea40066e.css\" rel=\"stylesheet\"></head><body><div id=\"root\"></div><script type=\"text/javascript\" src=\"/static/js/main.9ea948a5.js\"></script></body></html>',\n",
       " b'<!doctype html><html lang=\"en\"><head><meta charset=\"utf-8\"><meta name=\"viewport\" content=\"width=device-width,initial-scale=1\"><link rel=\"shortcut icon\" href=\"/static/favicon.ico\"><title>Neuroscout</title><link href=\"/static/css/main.ea40066e.css\" rel=\"stylesheet\"></head><body><div id=\"root\"></div><script type=\"text/javascript\" src=\"/static/js/main.9ea948a5.js\"></script></body></html>',\n",
       " b'<!doctype html><html lang=\"en\"><head><meta charset=\"utf-8\"><meta name=\"viewport\" content=\"width=device-width,initial-scale=1\"><link rel=\"shortcut icon\" href=\"/static/favicon.ico\"><title>Neuroscout</title><link href=\"/static/css/main.ea40066e.css\" rel=\"stylesheet\"></head><body><div id=\"root\"></div><script type=\"text/javascript\" src=\"/static/js/main.9ea948a5.js\"></script></body></html>',\n",
       " b'<!doctype html><html lang=\"en\"><head><meta charset=\"utf-8\"><meta name=\"viewport\" content=\"width=device-width,initial-scale=1\"><link rel=\"shortcut icon\" href=\"/static/favicon.ico\"><title>Neuroscout</title><link href=\"/static/css/main.ea40066e.css\" rel=\"stylesheet\"></head><body><div id=\"root\"></div><script type=\"text/javascript\" src=\"/static/js/main.9ea948a5.js\"></script></body></html>',\n",
       " b'<!doctype html><html lang=\"en\"><head><meta charset=\"utf-8\"><meta name=\"viewport\" content=\"width=device-width,initial-scale=1\"><link rel=\"shortcut icon\" href=\"/static/favicon.ico\"><title>Neuroscout</title><link href=\"/static/css/main.ea40066e.css\" rel=\"stylesheet\"></head><body><div id=\"root\"></div><script type=\"text/javascript\" src=\"/static/js/main.9ea948a5.js\"></script></body></html>',\n",
       " b'<!doctype html><html lang=\"en\"><head><meta charset=\"utf-8\"><meta name=\"viewport\" content=\"width=device-width,initial-scale=1\"><link rel=\"shortcut icon\" href=\"/static/favicon.ico\"><title>Neuroscout</title><link href=\"/static/css/main.ea40066e.css\" rel=\"stylesheet\"></head><body><div id=\"root\"></div><script type=\"text/javascript\" src=\"/static/js/main.9ea948a5.js\"></script></body></html>',\n",
       " b'<!doctype html><html lang=\"en\"><head><meta charset=\"utf-8\"><meta name=\"viewport\" content=\"width=device-width,initial-scale=1\"><link rel=\"shortcut icon\" href=\"/static/favicon.ico\"><title>Neuroscout</title><link href=\"/static/css/main.ea40066e.css\" rel=\"stylesheet\"></head><body><div id=\"root\"></div><script type=\"text/javascript\" src=\"/static/js/main.9ea948a5.js\"></script></body></html>',\n",
       " b'<!doctype html><html lang=\"en\"><head><meta charset=\"utf-8\"><meta name=\"viewport\" content=\"width=device-width,initial-scale=1\"><link rel=\"shortcut icon\" href=\"/static/favicon.ico\"><title>Neuroscout</title><link href=\"/static/css/main.ea40066e.css\" rel=\"stylesheet\"></head><body><div id=\"root\"></div><script type=\"text/javascript\" src=\"/static/js/main.9ea948a5.js\"></script></body></html>',\n",
       " b'<!doctype html><html lang=\"en\"><head><meta charset=\"utf-8\"><meta name=\"viewport\" content=\"width=device-width,initial-scale=1\"><link rel=\"shortcut icon\" href=\"/static/favicon.ico\"><title>Neuroscout</title><link href=\"/static/css/main.ea40066e.css\" rel=\"stylesheet\"></head><body><div id=\"root\"></div><script type=\"text/javascript\" src=\"/static/js/main.9ea948a5.js\"></script></body></html>',\n",
       " b'<!doctype html><html lang=\"en\"><head><meta charset=\"utf-8\"><meta name=\"viewport\" content=\"width=device-width,initial-scale=1\"><link rel=\"shortcut icon\" href=\"/static/favicon.ico\"><title>Neuroscout</title><link href=\"/static/css/main.ea40066e.css\" rel=\"stylesheet\"></head><body><div id=\"root\"></div><script type=\"text/javascript\" src=\"/static/js/main.9ea948a5.js\"></script></body></html>',\n",
       " b'<!doctype html><html lang=\"en\"><head><meta charset=\"utf-8\"><meta name=\"viewport\" content=\"width=device-width,initial-scale=1\"><link rel=\"shortcut icon\" href=\"/static/favicon.ico\"><title>Neuroscout</title><link href=\"/static/css/main.ea40066e.css\" rel=\"stylesheet\"></head><body><div id=\"root\"></div><script type=\"text/javascript\" src=\"/static/js/main.9ea948a5.js\"></script></body></html>',\n",
       " b'<!doctype html><html lang=\"en\"><head><meta charset=\"utf-8\"><meta name=\"viewport\" content=\"width=device-width,initial-scale=1\"><link rel=\"shortcut icon\" href=\"/static/favicon.ico\"><title>Neuroscout</title><link href=\"/static/css/main.ea40066e.css\" rel=\"stylesheet\"></head><body><div id=\"root\"></div><script type=\"text/javascript\" src=\"/static/js/main.9ea948a5.js\"></script></body></html>',\n",
       " b'<!doctype html><html lang=\"en\"><head><meta charset=\"utf-8\"><meta name=\"viewport\" content=\"width=device-width,initial-scale=1\"><link rel=\"shortcut icon\" href=\"/static/favicon.ico\"><title>Neuroscout</title><link href=\"/static/css/main.ea40066e.css\" rel=\"stylesheet\"></head><body><div id=\"root\"></div><script type=\"text/javascript\" src=\"/static/js/main.9ea948a5.js\"></script></body></html>',\n",
       " b'<!doctype html><html lang=\"en\"><head><meta charset=\"utf-8\"><meta name=\"viewport\" content=\"width=device-width,initial-scale=1\"><link rel=\"shortcut icon\" href=\"/static/favicon.ico\"><title>Neuroscout</title><link href=\"/static/css/main.ea40066e.css\" rel=\"stylesheet\"></head><body><div id=\"root\"></div><script type=\"text/javascript\" src=\"/static/js/main.9ea948a5.js\"></script></body></html>',\n",
       " b'<!doctype html><html lang=\"en\"><head><meta charset=\"utf-8\"><meta name=\"viewport\" content=\"width=device-width,initial-scale=1\"><link rel=\"shortcut icon\" href=\"/static/favicon.ico\"><title>Neuroscout</title><link href=\"/static/css/main.ea40066e.css\" rel=\"stylesheet\"></head><body><div id=\"root\"></div><script type=\"text/javascript\" src=\"/static/js/main.9ea948a5.js\"></script></body></html>',\n",
       " b'<!doctype html><html lang=\"en\"><head><meta charset=\"utf-8\"><meta name=\"viewport\" content=\"width=device-width,initial-scale=1\"><link rel=\"shortcut icon\" href=\"/static/favicon.ico\"><title>Neuroscout</title><link href=\"/static/css/main.ea40066e.css\" rel=\"stylesheet\"></head><body><div id=\"root\"></div><script type=\"text/javascript\" src=\"/static/js/main.9ea948a5.js\"></script></body></html>',\n",
       " b'<!doctype html><html lang=\"en\"><head><meta charset=\"utf-8\"><meta name=\"viewport\" content=\"width=device-width,initial-scale=1\"><link rel=\"shortcut icon\" href=\"/static/favicon.ico\"><title>Neuroscout</title><link href=\"/static/css/main.ea40066e.css\" rel=\"stylesheet\"></head><body><div id=\"root\"></div><script type=\"text/javascript\" src=\"/static/js/main.9ea948a5.js\"></script></body></html>',\n",
       " b'<!doctype html><html lang=\"en\"><head><meta charset=\"utf-8\"><meta name=\"viewport\" content=\"width=device-width,initial-scale=1\"><link rel=\"shortcut icon\" href=\"/static/favicon.ico\"><title>Neuroscout</title><link href=\"/static/css/main.ea40066e.css\" rel=\"stylesheet\"></head><body><div id=\"root\"></div><script type=\"text/javascript\" src=\"/static/js/main.9ea948a5.js\"></script></body></html>',\n",
       " b'<!doctype html><html lang=\"en\"><head><meta charset=\"utf-8\"><meta name=\"viewport\" content=\"width=device-width,initial-scale=1\"><link rel=\"shortcut icon\" href=\"/static/favicon.ico\"><title>Neuroscout</title><link href=\"/static/css/main.ea40066e.css\" rel=\"stylesheet\"></head><body><div id=\"root\"></div><script type=\"text/javascript\" src=\"/static/js/main.9ea948a5.js\"></script></body></html>',\n",
       " b'<!doctype html><html lang=\"en\"><head><meta charset=\"utf-8\"><meta name=\"viewport\" content=\"width=device-width,initial-scale=1\"><link rel=\"shortcut icon\" href=\"/static/favicon.ico\"><title>Neuroscout</title><link href=\"/static/css/main.ea40066e.css\" rel=\"stylesheet\"></head><body><div id=\"root\"></div><script type=\"text/javascript\" src=\"/static/js/main.9ea948a5.js\"></script></body></html>',\n",
       " b'<!doctype html><html lang=\"en\"><head><meta charset=\"utf-8\"><meta name=\"viewport\" content=\"width=device-width,initial-scale=1\"><link rel=\"shortcut icon\" href=\"/static/favicon.ico\"><title>Neuroscout</title><link href=\"/static/css/main.ea40066e.css\" rel=\"stylesheet\"></head><body><div id=\"root\"></div><script type=\"text/javascript\" src=\"/static/js/main.9ea948a5.js\"></script></body></html>',\n",
       " b'<!doctype html><html lang=\"en\"><head><meta charset=\"utf-8\"><meta name=\"viewport\" content=\"width=device-width,initial-scale=1\"><link rel=\"shortcut icon\" href=\"/static/favicon.ico\"><title>Neuroscout</title><link href=\"/static/css/main.ea40066e.css\" rel=\"stylesheet\"></head><body><div id=\"root\"></div><script type=\"text/javascript\" src=\"/static/js/main.9ea948a5.js\"></script></body></html>',\n",
       " b'<!doctype html><html lang=\"en\"><head><meta charset=\"utf-8\"><meta name=\"viewport\" content=\"width=device-width,initial-scale=1\"><link rel=\"shortcut icon\" href=\"/static/favicon.ico\"><title>Neuroscout</title><link href=\"/static/css/main.ea40066e.css\" rel=\"stylesheet\"></head><body><div id=\"root\"></div><script type=\"text/javascript\" src=\"/static/js/main.9ea948a5.js\"></script></body></html>',\n",
       " b'<!doctype html><html lang=\"en\"><head><meta charset=\"utf-8\"><meta name=\"viewport\" content=\"width=device-width,initial-scale=1\"><link rel=\"shortcut icon\" href=\"/static/favicon.ico\"><title>Neuroscout</title><link href=\"/static/css/main.ea40066e.css\" rel=\"stylesheet\"></head><body><div id=\"root\"></div><script type=\"text/javascript\" src=\"/static/js/main.9ea948a5.js\"></script></body></html>',\n",
       " b'<!doctype html><html lang=\"en\"><head><meta charset=\"utf-8\"><meta name=\"viewport\" content=\"width=device-width,initial-scale=1\"><link rel=\"shortcut icon\" href=\"/static/favicon.ico\"><title>Neuroscout</title><link href=\"/static/css/main.ea40066e.css\" rel=\"stylesheet\"></head><body><div id=\"root\"></div><script type=\"text/javascript\" src=\"/static/js/main.9ea948a5.js\"></script></body></html>',\n",
       " b'<!doctype html><html lang=\"en\"><head><meta charset=\"utf-8\"><meta name=\"viewport\" content=\"width=device-width,initial-scale=1\"><link rel=\"shortcut icon\" href=\"/static/favicon.ico\"><title>Neuroscout</title><link href=\"/static/css/main.ea40066e.css\" rel=\"stylesheet\"></head><body><div id=\"root\"></div><script type=\"text/javascript\" src=\"/static/js/main.9ea948a5.js\"></script></body></html>',\n",
       " b'<!doctype html><html lang=\"en\"><head><meta charset=\"utf-8\"><meta name=\"viewport\" content=\"width=device-width,initial-scale=1\"><link rel=\"shortcut icon\" href=\"/static/favicon.ico\"><title>Neuroscout</title><link href=\"/static/css/main.ea40066e.css\" rel=\"stylesheet\"></head><body><div id=\"root\"></div><script type=\"text/javascript\" src=\"/static/js/main.9ea948a5.js\"></script></body></html>',\n",
       " b'<!doctype html><html lang=\"en\"><head><meta charset=\"utf-8\"><meta name=\"viewport\" content=\"width=device-width,initial-scale=1\"><link rel=\"shortcut icon\" href=\"/static/favicon.ico\"><title>Neuroscout</title><link href=\"/static/css/main.ea40066e.css\" rel=\"stylesheet\"></head><body><div id=\"root\"></div><script type=\"text/javascript\" src=\"/static/js/main.9ea948a5.js\"></script></body></html>',\n",
       " b'<!doctype html><html lang=\"en\"><head><meta charset=\"utf-8\"><meta name=\"viewport\" content=\"width=device-width,initial-scale=1\"><link rel=\"shortcut icon\" href=\"/static/favicon.ico\"><title>Neuroscout</title><link href=\"/static/css/main.ea40066e.css\" rel=\"stylesheet\"></head><body><div id=\"root\"></div><script type=\"text/javascript\" src=\"/static/js/main.9ea948a5.js\"></script></body></html>',\n",
       " b'<!doctype html><html lang=\"en\"><head><meta charset=\"utf-8\"><meta name=\"viewport\" content=\"width=device-width,initial-scale=1\"><link rel=\"shortcut icon\" href=\"/static/favicon.ico\"><title>Neuroscout</title><link href=\"/static/css/main.ea40066e.css\" rel=\"stylesheet\"></head><body><div id=\"root\"></div><script type=\"text/javascript\" src=\"/static/js/main.9ea948a5.js\"></script></body></html>',\n",
       " b'<!doctype html><html lang=\"en\"><head><meta charset=\"utf-8\"><meta name=\"viewport\" content=\"width=device-width,initial-scale=1\"><link rel=\"shortcut icon\" href=\"/static/favicon.ico\"><title>Neuroscout</title><link href=\"/static/css/main.ea40066e.css\" rel=\"stylesheet\"></head><body><div id=\"root\"></div><script type=\"text/javascript\" src=\"/static/js/main.9ea948a5.js\"></script></body></html>',\n",
       " b'<!doctype html><html lang=\"en\"><head><meta charset=\"utf-8\"><meta name=\"viewport\" content=\"width=device-width,initial-scale=1\"><link rel=\"shortcut icon\" href=\"/static/favicon.ico\"><title>Neuroscout</title><link href=\"/static/css/main.ea40066e.css\" rel=\"stylesheet\"></head><body><div id=\"root\"></div><script type=\"text/javascript\" src=\"/static/js/main.9ea948a5.js\"></script></body></html>',\n",
       " b'<!doctype html><html lang=\"en\"><head><meta charset=\"utf-8\"><meta name=\"viewport\" content=\"width=device-width,initial-scale=1\"><link rel=\"shortcut icon\" href=\"/static/favicon.ico\"><title>Neuroscout</title><link href=\"/static/css/main.ea40066e.css\" rel=\"stylesheet\"></head><body><div id=\"root\"></div><script type=\"text/javascript\" src=\"/static/js/main.9ea948a5.js\"></script></body></html>',\n",
       " b'<!doctype html><html lang=\"en\"><head><meta charset=\"utf-8\"><meta name=\"viewport\" content=\"width=device-width,initial-scale=1\"><link rel=\"shortcut icon\" href=\"/static/favicon.ico\"><title>Neuroscout</title><link href=\"/static/css/main.ea40066e.css\" rel=\"stylesheet\"></head><body><div id=\"root\"></div><script type=\"text/javascript\" src=\"/static/js/main.9ea948a5.js\"></script></body></html>',\n",
       " b'<!doctype html><html lang=\"en\"><head><meta charset=\"utf-8\"><meta name=\"viewport\" content=\"width=device-width,initial-scale=1\"><link rel=\"shortcut icon\" href=\"/static/favicon.ico\"><title>Neuroscout</title><link href=\"/static/css/main.ea40066e.css\" rel=\"stylesheet\"></head><body><div id=\"root\"></div><script type=\"text/javascript\" src=\"/static/js/main.9ea948a5.js\"></script></body></html>',\n",
       " b'<!doctype html><html lang=\"en\"><head><meta charset=\"utf-8\"><meta name=\"viewport\" content=\"width=device-width,initial-scale=1\"><link rel=\"shortcut icon\" href=\"/static/favicon.ico\"><title>Neuroscout</title><link href=\"/static/css/main.ea40066e.css\" rel=\"stylesheet\"></head><body><div id=\"root\"></div><script type=\"text/javascript\" src=\"/static/js/main.9ea948a5.js\"></script></body></html>',\n",
       " b'<!doctype html><html lang=\"en\"><head><meta charset=\"utf-8\"><meta name=\"viewport\" content=\"width=device-width,initial-scale=1\"><link rel=\"shortcut icon\" href=\"/static/favicon.ico\"><title>Neuroscout</title><link href=\"/static/css/main.ea40066e.css\" rel=\"stylesheet\"></head><body><div id=\"root\"></div><script type=\"text/javascript\" src=\"/static/js/main.9ea948a5.js\"></script></body></html>',\n",
       " b'<!doctype html><html lang=\"en\"><head><meta charset=\"utf-8\"><meta name=\"viewport\" content=\"width=device-width,initial-scale=1\"><link rel=\"shortcut icon\" href=\"/static/favicon.ico\"><title>Neuroscout</title><link href=\"/static/css/main.ea40066e.css\" rel=\"stylesheet\"></head><body><div id=\"root\"></div><script type=\"text/javascript\" src=\"/static/js/main.9ea948a5.js\"></script></body></html>',\n",
       " b'<!doctype html><html lang=\"en\"><head><meta charset=\"utf-8\"><meta name=\"viewport\" content=\"width=device-width,initial-scale=1\"><link rel=\"shortcut icon\" href=\"/static/favicon.ico\"><title>Neuroscout</title><link href=\"/static/css/main.ea40066e.css\" rel=\"stylesheet\"></head><body><div id=\"root\"></div><script type=\"text/javascript\" src=\"/static/js/main.9ea948a5.js\"></script></body></html>',\n",
       " b'<!doctype html><html lang=\"en\"><head><meta charset=\"utf-8\"><meta name=\"viewport\" content=\"width=device-width,initial-scale=1\"><link rel=\"shortcut icon\" href=\"/static/favicon.ico\"><title>Neuroscout</title><link href=\"/static/css/main.ea40066e.css\" rel=\"stylesheet\"></head><body><div id=\"root\"></div><script type=\"text/javascript\" src=\"/static/js/main.9ea948a5.js\"></script></body></html>',\n",
       " b'<!doctype html><html lang=\"en\"><head><meta charset=\"utf-8\"><meta name=\"viewport\" content=\"width=device-width,initial-scale=1\"><link rel=\"shortcut icon\" href=\"/static/favicon.ico\"><title>Neuroscout</title><link href=\"/static/css/main.ea40066e.css\" rel=\"stylesheet\"></head><body><div id=\"root\"></div><script type=\"text/javascript\" src=\"/static/js/main.9ea948a5.js\"></script></body></html>',\n",
       " b'<!doctype html><html lang=\"en\"><head><meta charset=\"utf-8\"><meta name=\"viewport\" content=\"width=device-width,initial-scale=1\"><link rel=\"shortcut icon\" href=\"/static/favicon.ico\"><title>Neuroscout</title><link href=\"/static/css/main.ea40066e.css\" rel=\"stylesheet\"></head><body><div id=\"root\"></div><script type=\"text/javascript\" src=\"/static/js/main.9ea948a5.js\"></script></body></html>',\n",
       " b'<!doctype html><html lang=\"en\"><head><meta charset=\"utf-8\"><meta name=\"viewport\" content=\"width=device-width,initial-scale=1\"><link rel=\"shortcut icon\" href=\"/static/favicon.ico\"><title>Neuroscout</title><link href=\"/static/css/main.ea40066e.css\" rel=\"stylesheet\"></head><body><div id=\"root\"></div><script type=\"text/javascript\" src=\"/static/js/main.9ea948a5.js\"></script></body></html>',\n",
       " b'<!doctype html><html lang=\"en\"><head><meta charset=\"utf-8\"><meta name=\"viewport\" content=\"width=device-width,initial-scale=1\"><link rel=\"shortcut icon\" href=\"/static/favicon.ico\"><title>Neuroscout</title><link href=\"/static/css/main.ea40066e.css\" rel=\"stylesheet\"></head><body><div id=\"root\"></div><script type=\"text/javascript\" src=\"/static/js/main.9ea948a5.js\"></script></body></html>',\n",
       " b'<!doctype html><html lang=\"en\"><head><meta charset=\"utf-8\"><meta name=\"viewport\" content=\"width=device-width,initial-scale=1\"><link rel=\"shortcut icon\" href=\"/static/favicon.ico\"><title>Neuroscout</title><link href=\"/static/css/main.ea40066e.css\" rel=\"stylesheet\"></head><body><div id=\"root\"></div><script type=\"text/javascript\" src=\"/static/js/main.9ea948a5.js\"></script></body></html>',\n",
       " b'<!doctype html><html lang=\"en\"><head><meta charset=\"utf-8\"><meta name=\"viewport\" content=\"width=device-width,initial-scale=1\"><link rel=\"shortcut icon\" href=\"/static/favicon.ico\"><title>Neuroscout</title><link href=\"/static/css/main.ea40066e.css\" rel=\"stylesheet\"></head><body><div id=\"root\"></div><script type=\"text/javascript\" src=\"/static/js/main.9ea948a5.js\"></script></body></html>',\n",
       " b'<!doctype html><html lang=\"en\"><head><meta charset=\"utf-8\"><meta name=\"viewport\" content=\"width=device-width,initial-scale=1\"><link rel=\"shortcut icon\" href=\"/static/favicon.ico\"><title>Neuroscout</title><link href=\"/static/css/main.ea40066e.css\" rel=\"stylesheet\"></head><body><div id=\"root\"></div><script type=\"text/javascript\" src=\"/static/js/main.9ea948a5.js\"></script></body></html>',\n",
       " b'<!doctype html><html lang=\"en\"><head><meta charset=\"utf-8\"><meta name=\"viewport\" content=\"width=device-width,initial-scale=1\"><link rel=\"shortcut icon\" href=\"/static/favicon.ico\"><title>Neuroscout</title><link href=\"/static/css/main.ea40066e.css\" rel=\"stylesheet\"></head><body><div id=\"root\"></div><script type=\"text/javascript\" src=\"/static/js/main.9ea948a5.js\"></script></body></html>',\n",
       " b'<!doctype html><html lang=\"en\"><head><meta charset=\"utf-8\"><meta name=\"viewport\" content=\"width=device-width,initial-scale=1\"><link rel=\"shortcut icon\" href=\"/static/favicon.ico\"><title>Neuroscout</title><link href=\"/static/css/main.ea40066e.css\" rel=\"stylesheet\"></head><body><div id=\"root\"></div><script type=\"text/javascript\" src=\"/static/js/main.9ea948a5.js\"></script></body></html>',\n",
       " b'<!doctype html><html lang=\"en\"><head><meta charset=\"utf-8\"><meta name=\"viewport\" content=\"width=device-width,initial-scale=1\"><link rel=\"shortcut icon\" href=\"/static/favicon.ico\"><title>Neuroscout</title><link href=\"/static/css/main.ea40066e.css\" rel=\"stylesheet\"></head><body><div id=\"root\"></div><script type=\"text/javascript\" src=\"/static/js/main.9ea948a5.js\"></script></body></html>',\n",
       " b'<!doctype html><html lang=\"en\"><head><meta charset=\"utf-8\"><meta name=\"viewport\" content=\"width=device-width,initial-scale=1\"><link rel=\"shortcut icon\" href=\"/static/favicon.ico\"><title>Neuroscout</title><link href=\"/static/css/main.ea40066e.css\" rel=\"stylesheet\"></head><body><div id=\"root\"></div><script type=\"text/javascript\" src=\"/static/js/main.9ea948a5.js\"></script></body></html>',\n",
       " b'<!doctype html><html lang=\"en\"><head><meta charset=\"utf-8\"><meta name=\"viewport\" content=\"width=device-width,initial-scale=1\"><link rel=\"shortcut icon\" href=\"/static/favicon.ico\"><title>Neuroscout</title><link href=\"/static/css/main.ea40066e.css\" rel=\"stylesheet\"></head><body><div id=\"root\"></div><script type=\"text/javascript\" src=\"/static/js/main.9ea948a5.js\"></script></body></html>',\n",
       " b'<!doctype html><html lang=\"en\"><head><meta charset=\"utf-8\"><meta name=\"viewport\" content=\"width=device-width,initial-scale=1\"><link rel=\"shortcut icon\" href=\"/static/favicon.ico\"><title>Neuroscout</title><link href=\"/static/css/main.ea40066e.css\" rel=\"stylesheet\"></head><body><div id=\"root\"></div><script type=\"text/javascript\" src=\"/static/js/main.9ea948a5.js\"></script></body></html>',\n",
       " b'<!doctype html><html lang=\"en\"><head><meta charset=\"utf-8\"><meta name=\"viewport\" content=\"width=device-width,initial-scale=1\"><link rel=\"shortcut icon\" href=\"/static/favicon.ico\"><title>Neuroscout</title><link href=\"/static/css/main.ea40066e.css\" rel=\"stylesheet\"></head><body><div id=\"root\"></div><script type=\"text/javascript\" src=\"/static/js/main.9ea948a5.js\"></script></body></html>',\n",
       " b'<!doctype html><html lang=\"en\"><head><meta charset=\"utf-8\"><meta name=\"viewport\" content=\"width=device-width,initial-scale=1\"><link rel=\"shortcut icon\" href=\"/static/favicon.ico\"><title>Neuroscout</title><link href=\"/static/css/main.ea40066e.css\" rel=\"stylesheet\"></head><body><div id=\"root\"></div><script type=\"text/javascript\" src=\"/static/js/main.9ea948a5.js\"></script></body></html>',\n",
       " b'<!doctype html><html lang=\"en\"><head><meta charset=\"utf-8\"><meta name=\"viewport\" content=\"width=device-width,initial-scale=1\"><link rel=\"shortcut icon\" href=\"/static/favicon.ico\"><title>Neuroscout</title><link href=\"/static/css/main.ea40066e.css\" rel=\"stylesheet\"></head><body><div id=\"root\"></div><script type=\"text/javascript\" src=\"/static/js/main.9ea948a5.js\"></script></body></html>',\n",
       " b'<!doctype html><html lang=\"en\"><head><meta charset=\"utf-8\"><meta name=\"viewport\" content=\"width=device-width,initial-scale=1\"><link rel=\"shortcut icon\" href=\"/static/favicon.ico\"><title>Neuroscout</title><link href=\"/static/css/main.ea40066e.css\" rel=\"stylesheet\"></head><body><div id=\"root\"></div><script type=\"text/javascript\" src=\"/static/js/main.9ea948a5.js\"></script></body></html>',\n",
       " b'<!doctype html><html lang=\"en\"><head><meta charset=\"utf-8\"><meta name=\"viewport\" content=\"width=device-width,initial-scale=1\"><link rel=\"shortcut icon\" href=\"/static/favicon.ico\"><title>Neuroscout</title><link href=\"/static/css/main.ea40066e.css\" rel=\"stylesheet\"></head><body><div id=\"root\"></div><script type=\"text/javascript\" src=\"/static/js/main.9ea948a5.js\"></script></body></html>',\n",
       " b'<!doctype html><html lang=\"en\"><head><meta charset=\"utf-8\"><meta name=\"viewport\" content=\"width=device-width,initial-scale=1\"><link rel=\"shortcut icon\" href=\"/static/favicon.ico\"><title>Neuroscout</title><link href=\"/static/css/main.ea40066e.css\" rel=\"stylesheet\"></head><body><div id=\"root\"></div><script type=\"text/javascript\" src=\"/static/js/main.9ea948a5.js\"></script></body></html>',\n",
       " b'<!doctype html><html lang=\"en\"><head><meta charset=\"utf-8\"><meta name=\"viewport\" content=\"width=device-width,initial-scale=1\"><link rel=\"shortcut icon\" href=\"/static/favicon.ico\"><title>Neuroscout</title><link href=\"/static/css/main.ea40066e.css\" rel=\"stylesheet\"></head><body><div id=\"root\"></div><script type=\"text/javascript\" src=\"/static/js/main.9ea948a5.js\"></script></body></html>',\n",
       " b'<!doctype html><html lang=\"en\"><head><meta charset=\"utf-8\"><meta name=\"viewport\" content=\"width=device-width,initial-scale=1\"><link rel=\"shortcut icon\" href=\"/static/favicon.ico\"><title>Neuroscout</title><link href=\"/static/css/main.ea40066e.css\" rel=\"stylesheet\"></head><body><div id=\"root\"></div><script type=\"text/javascript\" src=\"/static/js/main.9ea948a5.js\"></script></body></html>']"
      ]
     },
     "execution_count": 13,
     "metadata": {},
     "output_type": "execute_result"
    }
   ],
   "source": [
    "budapest_events"
   ]
  },
  {
   "cell_type": "code",
   "execution_count": 86,
   "id": "individual-stomach",
   "metadata": {},
   "outputs": [
    {
     "data": {
      "text/plain": [
       "38026"
      ]
     },
     "execution_count": 86,
     "metadata": {},
     "output_type": "execute_result"
    }
   ],
   "source": [
    "budapest_predictor_ids[0]"
   ]
  },
  {
   "cell_type": "code",
   "execution_count": 15,
   "id": "private-clear",
   "metadata": {},
   "outputs": [],
   "source": [
    "an_event=api.predictor_events.get(predictor_id=budapest_predictor_ids[0])"
   ]
  },
  {
   "cell_type": "code",
   "execution_count": 18,
   "id": "original-mixture",
   "metadata": {},
   "outputs": [
    {
     "data": {
      "text/plain": [
       "95000"
      ]
     },
     "execution_count": 18,
     "metadata": {},
     "output_type": "execute_result"
    }
   ],
   "source": [
    "len(an_event)"
   ]
  },
  {
   "cell_type": "code",
   "execution_count": null,
   "id": "chicken-entrance",
   "metadata": {},
   "outputs": [],
   "source": []
  }
 ],
 "metadata": {
  "kernelspec": {
   "display_name": "Python 3",
   "language": "python",
   "name": "python3"
  },
  "language_info": {
   "codemirror_mode": {
    "name": "ipython",
    "version": 3
   },
   "file_extension": ".py",
   "mimetype": "text/x-python",
   "name": "python",
   "nbconvert_exporter": "python",
   "pygments_lexer": "ipython3",
   "version": "3.8.5"
  }
 },
 "nbformat": 4,
 "nbformat_minor": 5
}
