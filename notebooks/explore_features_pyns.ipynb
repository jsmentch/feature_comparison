{
 "cells": [
  {
   "cell_type": "markdown",
   "id": "skilled-capture",
   "metadata": {},
   "source": [
    "# notebook to explore extracted movie features from neuroscout with pyns"
   ]
  },
  {
   "cell_type": "code",
   "execution_count": 1,
   "id": "automated-header",
   "metadata": {},
   "outputs": [],
   "source": [
    "import numpy as np\n",
    "import pandas as pd"
   ]
  },
  {
   "cell_type": "code",
   "execution_count": 2,
   "id": "numerical-lincoln",
   "metadata": {},
   "outputs": [],
   "source": [
    "from pyns import Neuroscout\n",
    "api = Neuroscout()"
   ]
  },
  {
   "cell_type": "code",
   "execution_count": 3,
   "id": "characteristic-problem",
   "metadata": {},
   "outputs": [
    {
     "data": {
      "text/plain": [
       "12"
      ]
     },
     "execution_count": 3,
     "metadata": {},
     "output_type": "execute_result"
    }
   ],
   "source": [
    "#there are 12 datasets\n",
    "len(api.datasets.get())"
   ]
  },
  {
   "cell_type": "code",
   "execution_count": 4,
   "id": "expected-fellow",
   "metadata": {},
   "outputs": [
    {
     "name": "stdout",
     "output_type": "stream",
     "text": [
      "Budapest 27\n",
      "NaturalisticNeuroimagingDatabase 28\n",
      "HealthyBrainNetwork 8\n",
      "SchematicNarrative 20\n",
      "studyforrest 11\n",
      "Raiders 10\n",
      "Life 9\n",
      "ParanoiaStory 18\n",
      "Sherlock 21\n",
      "SherlockMerlin 5\n",
      "LearningTemporalStructure 19\n",
      "ReadingBrainProject 29\n"
     ]
    }
   ],
   "source": [
    "datasets = api.datasets.get()\n",
    "for i in datasets:\n",
    "    print(i['name'], i['id'])"
   ]
  },
  {
   "cell_type": "code",
   "execution_count": 5,
   "id": "undefined-system",
   "metadata": {},
   "outputs": [],
   "source": [
    "budapest = datasets[0]"
   ]
  },
  {
   "cell_type": "code",
   "execution_count": 6,
   "id": "demonstrated-powell",
   "metadata": {},
   "outputs": [
    {
     "data": {
      "text/plain": [
       "[{'TR': 1.0,\n",
       "  'avg_run_duration': 610,\n",
       "  'id': 48,\n",
       "  'n_runs_subject': 5,\n",
       "  'n_subjects': 25,\n",
       "  'name': 'movie',\n",
       "  'summary': 'Movie watching'}]"
      ]
     },
     "execution_count": 6,
     "metadata": {},
     "output_type": "execute_result"
    }
   ],
   "source": [
    "budapest['tasks']"
   ]
  },
  {
   "cell_type": "markdown",
   "id": "advanced-cooper",
   "metadata": {},
   "source": [
    "### let's just look at budapest to start"
   ]
  },
  {
   "cell_type": "code",
   "execution_count": 7,
   "id": "musical-holocaust",
   "metadata": {},
   "outputs": [
    {
     "data": {
      "text/plain": [
       "[{'acquisition': None,\n",
       "  'dataset_id': 27,\n",
       "  'duration': 598.0,\n",
       "  'id': 1433,\n",
       "  'number': 1,\n",
       "  'session': None,\n",
       "  'subject': 'sid000005',\n",
       "  'task': 48,\n",
       "  'task_name': 'movie'}]"
      ]
     },
     "execution_count": 7,
     "metadata": {},
     "output_type": "execute_result"
    }
   ],
   "source": [
    "api.runs.get(dataset_id=27, subject='sid000005',number=1)"
   ]
  },
  {
   "cell_type": "code",
   "execution_count": 8,
   "id": "understood-jimmy",
   "metadata": {},
   "outputs": [],
   "source": [
    "#get the run number for just BUDAPEST, SUBJECT5, PART1\n",
    "run_id=api.runs.get(dataset_id=27, subject='sid000005',number=1)[0]['id']\n",
    "run_duration=api.runs.get(dataset_id=27, subject='sid000005',number=1)[0]['duration']"
   ]
  },
  {
   "cell_type": "code",
   "execution_count": null,
   "id": "arctic-while",
   "metadata": {},
   "outputs": [],
   "source": []
  },
  {
   "cell_type": "code",
   "execution_count": 8,
   "id": "physical-execution",
   "metadata": {},
   "outputs": [
    {
     "ename": "SyntaxError",
     "evalue": "unexpected EOF while parsing (<ipython-input-8-2d0fea57a0a6>, line 10)",
     "output_type": "error",
     "traceback": [
      "\u001b[0;36m  File \u001b[0;32m\"<ipython-input-8-2d0fea57a0a6>\"\u001b[0;36m, line \u001b[0;32m10\u001b[0m\n\u001b[0;31m    'source': 'fmriprep'},\u001b[0m\n\u001b[0m                          ^\u001b[0m\n\u001b[0;31mSyntaxError\u001b[0m\u001b[0;31m:\u001b[0m unexpected EOF while parsing\n"
     ]
    }
   ],
   "source": [
    "[{'dataset_id': 27,\n",
    "  'description': 'Average signal in CSF mask',\n",
    "  'id': 37048,\n",
    "  'max': 437.444,\n",
    "  'mean': 369.345,\n",
    "  'min': 287.63,\n",
    "  'name': 'csf',\n",
    "  'num_na': 0,\n",
    "  'private': False,\n",
    "  'source': 'fmriprep'},"
   ]
  },
  {
   "cell_type": "markdown",
   "id": "recovered-fancy",
   "metadata": {},
   "source": [
    "### get just the non-fmriprep predictors"
   ]
  },
  {
   "cell_type": "code",
   "execution_count": 160,
   "id": "governing-handy",
   "metadata": {},
   "outputs": [
    {
     "data": {
      "text/plain": [
       "{'dataset_id': 27,\n",
       " 'description': 'The dominant (most frequent) part of speech of each entry',\n",
       " 'extracted_feature': {'created_at': '2020-09-24 03:59:08.164107',\n",
       "  'description': 'The dominant (most frequent) part of speech of each entry',\n",
       "  'extractor_name': 'PredefinedDictionaryExtractor',\n",
       "  'id': 424429,\n",
       "  'modality': 'text',\n",
       "  'resample_frequency': None},\n",
       " 'id': 38034,\n",
       " 'max': None,\n",
       " 'mean': None,\n",
       " 'min': None,\n",
       " 'name': 'subtlexusfrequency_Dom_PoS_SUBTLEX',\n",
       " 'num_na': None,\n",
       " 'private': False,\n",
       " 'source': 'extracted'}"
      ]
     },
     "execution_count": 160,
     "metadata": {},
     "output_type": "execute_result"
    }
   ],
   "source": [
    "budapest_predictors[10]"
   ]
  },
  {
   "cell_type": "code",
   "execution_count": 10,
   "id": "effective-geology",
   "metadata": {},
   "outputs": [
    {
     "name": "stdout",
     "output_type": "stream",
     "text": [
      "mel_10 Melspectrogram bin 10\n",
      "abstract Clarifai image recognition label: abstract\n",
      "action Clarifai image recognition label: action\n",
      "adult Clarifai image recognition label: adult\n",
      "animal Clarifai image recognition label: animal\n",
      "architecture Clarifai image recognition label: architecture\n",
      "art Clarifai image recognition label: art\n",
      "blur Clarifai image recognition label: blur\n",
      "business Clarifai image recognition label: business\n",
      "car Clarifai image recognition label: car\n",
      "child Clarifai image recognition label: child\n",
      "city Clarifai image recognition label: city\n",
      "competition Clarifai image recognition label: competition\n",
      "creativity Clarifai image recognition label: creativity\n",
      "dark Clarifai image recognition label: dark\n",
      "daylight Clarifai image recognition label: daylight\n",
      "desktop Clarifai image recognition label: desktop\n",
      "empty Clarifai image recognition label: empty\n",
      "equipment Clarifai image recognition label: equipment\n",
      "face Clarifai image recognition label: face\n",
      "fashion Clarifai image recognition label: fashion\n",
      "furniture Clarifai image recognition label: furniture\n",
      "girl Clarifai image recognition label: girl\n",
      "hand Clarifai image recognition label: hand\n",
      "horizontal Clarifai image recognition label: horizontal\n",
      "illustration Clarifai image recognition label: illustration\n",
      "image Clarifai image recognition label: image\n",
      "landscape Clarifai image recognition label: landscape\n",
      "light Clarifai image recognition label: light\n",
      "man Clarifai image recognition label: man\n",
      "military Clarifai image recognition label: military\n",
      "music Clarifai image recognition label: music\n",
      "old Clarifai image recognition label: old\n",
      "one Clarifai image recognition label: one\n",
      "outdoors Clarifai image recognition label: outdoors\n",
      "brightness Average luminosity of the pixels\n",
      "vibrance Variance of color channels\n",
      "sharpness Degree of blur/sharpness of the image\n",
      "portrait Clarifai image recognition label: portrait\n",
      "recreation Clarifai image recognition label: recreation\n",
      "retro Clarifai image recognition label: retro\n",
      "road Clarifai image recognition label: road\n",
      "room Clarifai image recognition label: room\n",
      "simplicity Clarifai image recognition label: simplicity\n",
      "sky Clarifai image recognition label: sky\n",
      "street Clarifai image recognition label: street\n",
      "summer Clarifai image recognition label: summer\n",
      "sunset Clarifai image recognition label: sunset\n",
      "technology Clarifai image recognition label: technology\n",
      "text Clarifai image recognition label: text\n",
      "travel Clarifai image recognition label: travel\n",
      "two Clarifai image recognition label: two\n",
      "vehicle Clarifai image recognition label: vehicle\n",
      "vertical Clarifai image recognition label: vertical\n",
      "water Clarifai image recognition label: water\n",
      "wear Clarifai image recognition label: wear\n",
      "wild Clarifai image recognition label: wild\n",
      "wildlife Clarifai image recognition label: wildlife\n",
      "woman Clarifai image recognition label: woman\n",
      "wood Clarifai image recognition label: wood\n",
      "writing Clarifai image recognition label: writing\n",
      "as-Music AudioSet Level 1 label: Music\n",
      "as-Animal AudioSet Level 1 label: Animal\n",
      "as-Whistling AudioSet Level 2 label: Whistling\n",
      "as-Vehicle AudioSet Level 2 label: Vehicle\n",
      "as-Wild animals AudioSet Level 2 label: Wild animals\n",
      "as-Thunderstorm AudioSet Level 2 label: Thunderstorm\n",
      "as-Noise AudioSet Level 2 label: Noise\n",
      "as-Fire AudioSet Level 2 label: Fire\n",
      "as-Water AudioSet Level 2 label: Water\n",
      "as-Wind AudioSet Level 2 label: Wind\n",
      "as-Glass AudioSet Level 2 label: Glass\n",
      "as-Wood AudioSet Level 2 label: Wood\n",
      "as-Silence AudioSet Level 2 label: Silence\n",
      "as-Mechanisms AudioSet Level 2 label: Mechanisms\n",
      "as-Alarm AudioSet Level 2 label: Alarm\n",
      "as-Hands AudioSet Level 2 label: Hands\n",
      "as-Tools AudioSet Level 2 label: Tools\n",
      "speech Speech (binarized, on or off)\n",
      "tool Clarifai image recognition label: tool\n",
      "rms Root mean square (RMS) energy from audio\n",
      "tonal_centroid_0 Tonal centroid 0\n",
      "face_count None\n",
      "log_mean_time_since None\n",
      "first_time_face None\n",
      "any_faces None\n",
      "log_max_time_since None\n",
      "tonal_centroid_2 Tonal centroid 2\n",
      "tonal_centroid_3 Tonal centroid 3\n",
      "text_length Number of letters in each spoken word.\n",
      "BERTLM_pre_25_entropy Entropy of BERT LM encoding vectors.\n",
      "tonal_centroid_4 Tonal centroid 4\n",
      "tonal_centroid_5 Tonal centroid 5\n",
      "chroma_cqt_0 Constant-q chromogram bin 0\n",
      "chroma_cqt_1 Constant-q chromogram bin 1\n",
      "chroma_cqt_2 Constant-q chromogram bin 2\n",
      "chroma_cqt_3 Constant-q chromogram bin 3\n",
      "chroma_cqt_5 Constant-q chromogram bin 5\n",
      "chroma_cqt_6 Constant-q chromogram bin 6\n",
      "chroma_cqt_7 Constant-q chromogram bin 7\n",
      "chroma_cqt_8 Constant-q chromogram bin 8\n",
      "chroma_cqt_9 Constant-q chromogram bin 9\n",
      "chroma_cqt_11 Constant-q chromogram bin 11\n",
      "as-Speech AudioSet Level 1 label: Speech\n",
      "mel_1 Melspectrogram bin 1\n",
      "mel_2 Melspectrogram bin 2\n",
      "mel_4 Melspectrogram bin 4\n",
      "mel_5 Melspectrogram bin 5\n",
      "mel_6 Melspectrogram bin 6\n",
      "mel_8 Melspectrogram bin 8\n",
      "mel_9 Melspectrogram bin 9\n",
      "mel_12 Melspectrogram bin 12\n",
      "mel_13 Melspectrogram bin 13\n",
      "mel_14 Melspectrogram bin 14\n",
      "mel_15 Melspectrogram bin 15\n",
      "mel_17 Melspectrogram bin 17\n",
      "mel_18 Melspectrogram bin 18\n",
      "mel_19 Melspectrogram bin 19\n",
      "mel_21 Melspectrogram bin 21\n",
      "mel_22 Melspectrogram bin 22\n",
      "mel_23 Melspectrogram bin 23\n",
      "mel_25 Melspectrogram bin 25\n",
      "mel_26 Melspectrogram bin 26\n",
      "mel_27 Melspectrogram bin 27\n",
      "mel_29 Melspectrogram bin 29\n",
      "mel_30 Melspectrogram bin 30\n",
      "mel_31 Melspectrogram bin 31\n",
      "mel_33 Melspectrogram bin 33\n",
      "mel_34 Melspectrogram bin 34\n",
      "mel_35 Melspectrogram bin 35\n",
      "mel_37 Melspectrogram bin 37\n",
      "mel_38 Melspectrogram bin 38\n",
      "mel_39 Melspectrogram bin 39\n",
      "mel_41 Melspectrogram bin 41\n",
      "mel_42 Melspectrogram bin 42\n",
      "mel_43 Melspectrogram bin 43\n",
      "mel_44 Melspectrogram bin 44\n",
      "mel_46 Melspectrogram bin 46\n",
      "mel_47 Melspectrogram bin 47\n",
      "mfcc_1 Mel Frequency Ceptral Coefficients, 1\n",
      "mfcc_2 Mel Frequency Ceptral Coefficients, 2\n",
      "mfcc_4 Mel Frequency Ceptral Coefficients, 4\n",
      "mfcc_5 Mel Frequency Ceptral Coefficients, 5\n",
      "mfcc_6 Mel Frequency Ceptral Coefficients, 6\n",
      "mfcc_7 Mel Frequency Ceptral Coefficients, 7\n",
      "mfcc_8 Mel Frequency Ceptral Coefficients, 8\n",
      "mfcc_10 Mel Frequency Ceptral Coefficients, 10\n",
      "mfcc_11 Mel Frequency Ceptral Coefficients, 11\n",
      "mfcc_12 Mel Frequency Ceptral Coefficients, 12\n",
      "mfcc_13 Mel Frequency Ceptral Coefficients, 13\n",
      "mfcc_15 Mel Frequency Ceptral Coefficients, 15\n",
      "mfcc_16 Mel Frequency Ceptral Coefficients, 16\n",
      "mfcc_17 Mel Frequency Ceptral Coefficients, 17\n",
      "mfcc_18 Mel Frequency Ceptral Coefficients, 18\n",
      "alphabet Clarifai image recognition label: alphabet\n",
      "building Clarifai image recognition label: building\n",
      "color Clarifai image recognition label: color\n",
      "design Clarifai image recognition label: design\n",
      "family Clarifai image recognition label: family\n",
      "home Clarifai image recognition label: home\n",
      "indoors Clarifai image recognition label: indoors\n",
      "nature Clarifai image recognition label: nature\n",
      "pattern Clarifai image recognition label: pattern\n",
      "shot_change Transitions between scene cuts in video\n",
      "as-Explosion AudioSet Level 2 label: Explosion\n",
      "as-Engine AudioSet Level 2 label: Engine\n",
      "as-Liquid AudioSet Level 2 label: Liquid\n",
      "as-Musical instrument AudioSet Level 2 label: Musical instrument\n",
      "people Clarifai image recognition label: people\n",
      "tonal_centroid_1 Tonal centroid 1\n",
      "log_mean_face_time_cum None\n",
      "log_max_face_time_cum None\n",
      "spectral_centroid Spectral centroids from audio\n",
      "chroma_cqt_4 Constant-q chromogram bin 4\n",
      "chroma_cqt_10 Constant-q chromogram bin 10\n",
      "mel_0 Melspectrogram bin 0\n",
      "mel_3 Melspectrogram bin 3\n",
      "mel_7 Melspectrogram bin 7\n",
      "mel_11 Melspectrogram bin 11\n",
      "mel_16 Melspectrogram bin 16\n",
      "mel_20 Melspectrogram bin 20\n",
      "mel_24 Melspectrogram bin 24\n",
      "mel_28 Melspectrogram bin 28\n",
      "mel_32 Melspectrogram bin 32\n",
      "mel_36 Melspectrogram bin 36\n",
      "mel_40 Melspectrogram bin 40\n",
      "mel_45 Melspectrogram bin 45\n",
      "mfcc_0 Mel Frequency Ceptral Coefficients, 0\n",
      "mfcc_3 Mel Frequency Ceptral Coefficients, 3\n",
      "mfcc_9 Mel Frequency Ceptral Coefficients, 9\n",
      "mfcc_14 Mel Frequency Ceptral Coefficients, 14\n",
      "mfcc_19 Mel Frequency Ceptral Coefficients, 19\n"
     ]
    }
   ],
   "source": [
    "budapest_predictors=api.predictors.get(run_id=run_id)\n",
    "for i in budapest_predictors:\n",
    "    if not i['source'] == 'fmriprep' and not i['mean'] == None:\n",
    "    #if i['source'] == 'extracted':\n",
    "            print(i['name'],i['description'])"
   ]
  },
  {
   "cell_type": "markdown",
   "id": "checked-athletics",
   "metadata": {},
   "source": [
    "#### get ids and names of predictors?"
   ]
  },
  {
   "cell_type": "code",
   "execution_count": 89,
   "id": "removable-virtue",
   "metadata": {},
   "outputs": [],
   "source": [
    "budapest_predictor_ids = []\n",
    "budapest_predictor_names = []\n",
    "budapest_predictor_modality = []\n",
    "\n",
    "for i in budapest_predictors:\n",
    "    if not i['source'] == 'fmriprep' and not i['mean'] == None:\n",
    "        budapest_predictor_ids.append(i['id'])\n",
    "        budapest_predictor_names.append(i['name'])\n",
    "        try:\n",
    "            budapest_predictor_modality.append(i['extracted_feature']['modality'])\n",
    "        except:\n",
    "            budapest_predictor_modality.append(None)"
   ]
  },
  {
   "cell_type": "markdown",
   "id": "incredible-destination",
   "metadata": {},
   "source": [
    "### sort predictors"
   ]
  },
  {
   "cell_type": "code",
   "execution_count": 90,
   "id": "median-acquisition",
   "metadata": {},
   "outputs": [],
   "source": [
    "df_predictors=pd.DataFrame(data= np.array([budapest_predictor_ids,budapest_predictor_modality,budapest_predictor_names]).T , columns=['id','modality','names'])"
   ]
  },
  {
   "cell_type": "code",
   "execution_count": 91,
   "id": "liable-newman",
   "metadata": {},
   "outputs": [],
   "source": [
    "df_predictors = df_predictors.sort_values(by=['id','names','modality'])\n",
    "# df_predictors = df_predictors.sort_values(by=['names'])\n",
    "# df_predictors = df_predictors.sort_values(by=['modality'])\n",
    "budapest_predictor_ids= df_predictors['id'].to_numpy()\n",
    "budapest_predictor_names= df_predictors['names'].to_numpy()\n",
    "budapest_predictor_modality= df_predictors['modality'].to_numpy()\n"
   ]
  },
  {
   "cell_type": "markdown",
   "id": "desperate-corrections",
   "metadata": {},
   "source": [
    "#### how many values are in each predictor??"
   ]
  },
  {
   "cell_type": "code",
   "execution_count": 92,
   "id": "maritime-transcription",
   "metadata": {},
   "outputs": [
    {
     "ename": "KeyboardInterrupt",
     "evalue": "",
     "output_type": "error",
     "traceback": [
      "\u001b[0;31m---------------------------------------------------------------------------\u001b[0m",
      "\u001b[0;31mKeyboardInterrupt\u001b[0m                         Traceback (most recent call last)",
      "\u001b[0;32m<ipython-input-92-256148401f68>\u001b[0m in \u001b[0;36m<module>\u001b[0;34m\u001b[0m\n\u001b[1;32m      2\u001b[0m \u001b[0;32mfor\u001b[0m \u001b[0mi\u001b[0m \u001b[0;32min\u001b[0m \u001b[0mbudapest_predictor_ids\u001b[0m\u001b[0;34m:\u001b[0m\u001b[0;34m\u001b[0m\u001b[0;34m\u001b[0m\u001b[0m\n\u001b[1;32m      3\u001b[0m     predictor_lengths.append(\n\u001b[0;32m----> 4\u001b[0;31m         \u001b[0mlen\u001b[0m\u001b[0;34m(\u001b[0m\u001b[0mapi\u001b[0m\u001b[0;34m.\u001b[0m\u001b[0mpredictor_events\u001b[0m\u001b[0;34m.\u001b[0m\u001b[0mget\u001b[0m\u001b[0;34m(\u001b[0m\u001b[0mpredictor_id\u001b[0m\u001b[0;34m=\u001b[0m\u001b[0mi\u001b[0m\u001b[0;34m,\u001b[0m \u001b[0mrun_id\u001b[0m\u001b[0;34m=\u001b[0m\u001b[0mrun_id\u001b[0m\u001b[0;34m)\u001b[0m\u001b[0;34m)\u001b[0m\u001b[0;34m\u001b[0m\u001b[0;34m\u001b[0m\u001b[0m\n\u001b[0m\u001b[1;32m      5\u001b[0m                                 )\n",
      "\u001b[0;32m/om2/user/jsmentch/anaconda/envs/pliers/lib/python3.8/site-packages/pyns/api.py\u001b[0m in \u001b[0;36m_make_request\u001b[0;34m(self, request, route, sub_route, id, params, data, json, headers, remove_null, files, **kwargs)\u001b[0m\n\u001b[1;32m    108\u001b[0m \u001b[0;34m\u001b[0m\u001b[0m\n\u001b[1;32m    109\u001b[0m         \u001b[0;32mif\u001b[0m \u001b[0mresp\u001b[0m\u001b[0;34m.\u001b[0m\u001b[0mheaders\u001b[0m\u001b[0;34m.\u001b[0m\u001b[0mget\u001b[0m\u001b[0;34m(\u001b[0m\u001b[0;34m'Content-Type'\u001b[0m\u001b[0;34m)\u001b[0m \u001b[0;34m==\u001b[0m \u001b[0;34m'application/json'\u001b[0m\u001b[0;34m:\u001b[0m\u001b[0;34m\u001b[0m\u001b[0;34m\u001b[0m\u001b[0m\n\u001b[0;32m--> 110\u001b[0;31m             \u001b[0mcontent\u001b[0m \u001b[0;34m=\u001b[0m \u001b[0mresp\u001b[0m\u001b[0;34m.\u001b[0m\u001b[0mjson\u001b[0m\u001b[0;34m(\u001b[0m\u001b[0;34m)\u001b[0m\u001b[0;34m\u001b[0m\u001b[0;34m\u001b[0m\u001b[0m\n\u001b[0m\u001b[1;32m    111\u001b[0m         \u001b[0;32melse\u001b[0m\u001b[0;34m:\u001b[0m\u001b[0;34m\u001b[0m\u001b[0;34m\u001b[0m\u001b[0m\n\u001b[1;32m    112\u001b[0m             \u001b[0mcontent\u001b[0m \u001b[0;34m=\u001b[0m \u001b[0mresp\u001b[0m\u001b[0;34m.\u001b[0m\u001b[0mcontent\u001b[0m\u001b[0;34m\u001b[0m\u001b[0;34m\u001b[0m\u001b[0m\n",
      "\u001b[0;32m/om2/user/jsmentch/anaconda/envs/pliers/lib/python3.8/site-packages/requests/models.py\u001b[0m in \u001b[0;36mjson\u001b[0;34m(self, **kwargs)\u001b[0m\n\u001b[1;32m    898\u001b[0m                     \u001b[0;31m# used.\u001b[0m\u001b[0;34m\u001b[0m\u001b[0;34m\u001b[0m\u001b[0;34m\u001b[0m\u001b[0m\n\u001b[1;32m    899\u001b[0m                     \u001b[0;32mpass\u001b[0m\u001b[0;34m\u001b[0m\u001b[0;34m\u001b[0m\u001b[0m\n\u001b[0;32m--> 900\u001b[0;31m         \u001b[0;32mreturn\u001b[0m \u001b[0mcomplexjson\u001b[0m\u001b[0;34m.\u001b[0m\u001b[0mloads\u001b[0m\u001b[0;34m(\u001b[0m\u001b[0mself\u001b[0m\u001b[0;34m.\u001b[0m\u001b[0mtext\u001b[0m\u001b[0;34m,\u001b[0m \u001b[0;34m**\u001b[0m\u001b[0mkwargs\u001b[0m\u001b[0;34m)\u001b[0m\u001b[0;34m\u001b[0m\u001b[0;34m\u001b[0m\u001b[0m\n\u001b[0m\u001b[1;32m    901\u001b[0m \u001b[0;34m\u001b[0m\u001b[0m\n\u001b[1;32m    902\u001b[0m     \u001b[0;34m@\u001b[0m\u001b[0mproperty\u001b[0m\u001b[0;34m\u001b[0m\u001b[0;34m\u001b[0m\u001b[0m\n",
      "\u001b[0;32m/om2/user/jsmentch/anaconda/envs/pliers/lib/python3.8/site-packages/simplejson/__init__.py\u001b[0m in \u001b[0;36mloads\u001b[0;34m(s, encoding, cls, object_hook, parse_float, parse_int, parse_constant, object_pairs_hook, use_decimal, **kw)\u001b[0m\n\u001b[1;32m    523\u001b[0m             \u001b[0mparse_constant\u001b[0m \u001b[0;32mis\u001b[0m \u001b[0;32mNone\u001b[0m \u001b[0;32mand\u001b[0m \u001b[0mobject_pairs_hook\u001b[0m \u001b[0;32mis\u001b[0m \u001b[0;32mNone\u001b[0m\u001b[0;34m\u001b[0m\u001b[0;34m\u001b[0m\u001b[0m\n\u001b[1;32m    524\u001b[0m             and not use_decimal and not kw):\n\u001b[0;32m--> 525\u001b[0;31m         \u001b[0;32mreturn\u001b[0m \u001b[0m_default_decoder\u001b[0m\u001b[0;34m.\u001b[0m\u001b[0mdecode\u001b[0m\u001b[0;34m(\u001b[0m\u001b[0ms\u001b[0m\u001b[0;34m)\u001b[0m\u001b[0;34m\u001b[0m\u001b[0;34m\u001b[0m\u001b[0m\n\u001b[0m\u001b[1;32m    526\u001b[0m     \u001b[0;32mif\u001b[0m \u001b[0mcls\u001b[0m \u001b[0;32mis\u001b[0m \u001b[0;32mNone\u001b[0m\u001b[0;34m:\u001b[0m\u001b[0;34m\u001b[0m\u001b[0;34m\u001b[0m\u001b[0m\n\u001b[1;32m    527\u001b[0m         \u001b[0mcls\u001b[0m \u001b[0;34m=\u001b[0m \u001b[0mJSONDecoder\u001b[0m\u001b[0;34m\u001b[0m\u001b[0;34m\u001b[0m\u001b[0m\n",
      "\u001b[0;32m/om2/user/jsmentch/anaconda/envs/pliers/lib/python3.8/site-packages/simplejson/decoder.py\u001b[0m in \u001b[0;36mdecode\u001b[0;34m(self, s, _w, _PY3)\u001b[0m\n\u001b[1;32m    368\u001b[0m         \u001b[0;32mif\u001b[0m \u001b[0m_PY3\u001b[0m \u001b[0;32mand\u001b[0m \u001b[0misinstance\u001b[0m\u001b[0;34m(\u001b[0m\u001b[0ms\u001b[0m\u001b[0;34m,\u001b[0m \u001b[0mbytes\u001b[0m\u001b[0;34m)\u001b[0m\u001b[0;34m:\u001b[0m\u001b[0;34m\u001b[0m\u001b[0;34m\u001b[0m\u001b[0m\n\u001b[1;32m    369\u001b[0m             \u001b[0ms\u001b[0m \u001b[0;34m=\u001b[0m \u001b[0mstr\u001b[0m\u001b[0;34m(\u001b[0m\u001b[0ms\u001b[0m\u001b[0;34m,\u001b[0m \u001b[0mself\u001b[0m\u001b[0;34m.\u001b[0m\u001b[0mencoding\u001b[0m\u001b[0;34m)\u001b[0m\u001b[0;34m\u001b[0m\u001b[0;34m\u001b[0m\u001b[0m\n\u001b[0;32m--> 370\u001b[0;31m         \u001b[0mobj\u001b[0m\u001b[0;34m,\u001b[0m \u001b[0mend\u001b[0m \u001b[0;34m=\u001b[0m \u001b[0mself\u001b[0m\u001b[0;34m.\u001b[0m\u001b[0mraw_decode\u001b[0m\u001b[0;34m(\u001b[0m\u001b[0ms\u001b[0m\u001b[0;34m)\u001b[0m\u001b[0;34m\u001b[0m\u001b[0;34m\u001b[0m\u001b[0m\n\u001b[0m\u001b[1;32m    371\u001b[0m         \u001b[0mend\u001b[0m \u001b[0;34m=\u001b[0m \u001b[0m_w\u001b[0m\u001b[0;34m(\u001b[0m\u001b[0ms\u001b[0m\u001b[0;34m,\u001b[0m \u001b[0mend\u001b[0m\u001b[0;34m)\u001b[0m\u001b[0;34m.\u001b[0m\u001b[0mend\u001b[0m\u001b[0;34m(\u001b[0m\u001b[0;34m)\u001b[0m\u001b[0;34m\u001b[0m\u001b[0;34m\u001b[0m\u001b[0m\n\u001b[1;32m    372\u001b[0m         \u001b[0;32mif\u001b[0m \u001b[0mend\u001b[0m \u001b[0;34m!=\u001b[0m \u001b[0mlen\u001b[0m\u001b[0;34m(\u001b[0m\u001b[0ms\u001b[0m\u001b[0;34m)\u001b[0m\u001b[0;34m:\u001b[0m\u001b[0;34m\u001b[0m\u001b[0;34m\u001b[0m\u001b[0m\n",
      "\u001b[0;32m/om2/user/jsmentch/anaconda/envs/pliers/lib/python3.8/site-packages/simplejson/decoder.py\u001b[0m in \u001b[0;36mraw_decode\u001b[0;34m(self, s, idx, _w, _PY3)\u001b[0m\n\u001b[1;32m    398\u001b[0m             \u001b[0;32melif\u001b[0m \u001b[0mord0\u001b[0m \u001b[0;34m==\u001b[0m \u001b[0;36m0xef\u001b[0m \u001b[0;32mand\u001b[0m \u001b[0ms\u001b[0m\u001b[0;34m[\u001b[0m\u001b[0midx\u001b[0m\u001b[0;34m:\u001b[0m\u001b[0midx\u001b[0m \u001b[0;34m+\u001b[0m \u001b[0;36m3\u001b[0m\u001b[0;34m]\u001b[0m \u001b[0;34m==\u001b[0m \u001b[0;34m'\\xef\\xbb\\xbf'\u001b[0m\u001b[0;34m:\u001b[0m\u001b[0;34m\u001b[0m\u001b[0;34m\u001b[0m\u001b[0m\n\u001b[1;32m    399\u001b[0m                 \u001b[0midx\u001b[0m \u001b[0;34m+=\u001b[0m \u001b[0;36m3\u001b[0m\u001b[0;34m\u001b[0m\u001b[0;34m\u001b[0m\u001b[0m\n\u001b[0;32m--> 400\u001b[0;31m         \u001b[0;32mreturn\u001b[0m \u001b[0mself\u001b[0m\u001b[0;34m.\u001b[0m\u001b[0mscan_once\u001b[0m\u001b[0;34m(\u001b[0m\u001b[0ms\u001b[0m\u001b[0;34m,\u001b[0m \u001b[0midx\u001b[0m\u001b[0;34m=\u001b[0m\u001b[0m_w\u001b[0m\u001b[0;34m(\u001b[0m\u001b[0ms\u001b[0m\u001b[0;34m,\u001b[0m \u001b[0midx\u001b[0m\u001b[0;34m)\u001b[0m\u001b[0;34m.\u001b[0m\u001b[0mend\u001b[0m\u001b[0;34m(\u001b[0m\u001b[0;34m)\u001b[0m\u001b[0;34m)\u001b[0m\u001b[0;34m\u001b[0m\u001b[0;34m\u001b[0m\u001b[0m\n\u001b[0m",
      "\u001b[0;31mKeyboardInterrupt\u001b[0m: "
     ]
    }
   ],
   "source": [
    "predictor_lengths = []\n",
    "for i in budapest_predictor_ids:\n",
    "    predictor_lengths.append(\n",
    "        len(api.predictor_events.get(predictor_id=i, run_id=run_id))\n",
    "                                )"
   ]
  },
  {
   "cell_type": "code",
   "execution_count": 165,
   "id": "infrared-revision",
   "metadata": {},
   "outputs": [
    {
     "name": "stdout",
     "output_type": "stream",
     "text": [
      "10 5765 1688.7083333333333\n"
     ]
    }
   ],
   "source": [
    "predictor_lengths=np.array(predictor_lengths)\n",
    "print(predictor_lengths.min(), predictor_lengths.max(), predictor_lengths.mean())"
   ]
  },
  {
   "cell_type": "markdown",
   "id": "stainless-spanish",
   "metadata": {},
   "source": [
    "### given an event... convert it from duration onset value to timeseries\n",
    "- sort it (the dicts are out of order)\n",
    "- convert to timeseries\n",
    "- resample it (eg some are variable mean 150 hz?? others are regular 0.6 hz)"
   ]
  },
  {
   "cell_type": "markdown",
   "id": "established-plate",
   "metadata": {},
   "source": [
    "load an event into df, sort it by onset"
   ]
  },
  {
   "cell_type": "code",
   "execution_count": 46,
   "id": "mathematical-communication",
   "metadata": {},
   "outputs": [],
   "source": [
    "# an_event=api.predictor_events.get(predictor_id=budapest_predictor_ids[1],run_id=run_id,stimulus_timing=True)\n",
    "# #stimulus_timing flag returns addtl info including the timing relative to stimulus not run (without the offset if there is one)\n",
    "# #but actualkly stimulus_timing doesn't work for all of them\n",
    "# df = pd.DataFrame(columns=['onset','duration','value'])\n",
    "# for i in an_event:\n",
    "#     df = df.append({'onset': i['onset'], 'duration': i['duration'], 'value': i['value']}, ignore_index=True)\n",
    "# df = df.sort_values(by='onset')\n",
    "# df"
   ]
  },
  {
   "cell_type": "code",
   "execution_count": 93,
   "id": "modern-contrast",
   "metadata": {},
   "outputs": [],
   "source": [
    "import math\n",
    "all_feats = []\n",
    "for pred_id in budapest_predictor_ids:\n",
    "    an_event=api.predictor_events.get(predictor_id=pred_id,run_id=run_id,stimulus_timing=True)\n",
    "    data = np.zeros((int(run_duration)))\n",
    "    for i in an_event:\n",
    "        start = round(i['onset'])\n",
    "        stop = start + math.ceil(i['duration'])\n",
    "        value = i['value']\n",
    "        #onset=round(onset)\n",
    "        try:\n",
    "            data[start:stop]=value\n",
    "        except:\n",
    "            #print()\n",
    "            print(f'skipped {value}')\n",
    "\n",
    "    all_feats.append(data)\n",
    "#all_feats is length = # predictors each predictor is size = run duration"
   ]
  },
  {
   "cell_type": "code",
   "execution_count": 94,
   "id": "cordless-newport",
   "metadata": {},
   "outputs": [],
   "source": [
    "all_feats = np.asarray(all_feats)"
   ]
  },
  {
   "cell_type": "code",
   "execution_count": 95,
   "id": "suffering-james",
   "metadata": {},
   "outputs": [
    {
     "data": {
      "text/plain": [
       "array([[0., 0., 0., ..., 0., 0., 0.],\n",
       "       [0., 0., 0., ..., 0., 0., 0.],\n",
       "       [0., 0., 0., ..., 0., 0., 0.],\n",
       "       ...,\n",
       "       [0., 0., 0., ..., 0., 0., 0.],\n",
       "       [0., 0., 0., ..., 0., 0., 0.],\n",
       "       [0., 0., 0., ..., 0., 0., 0.]])"
      ]
     },
     "execution_count": 95,
     "metadata": {},
     "output_type": "execute_result"
    }
   ],
   "source": [
    "all_feats"
   ]
  },
  {
   "cell_type": "code",
   "execution_count": 96,
   "id": "norwegian-hypothetical",
   "metadata": {},
   "outputs": [
    {
     "data": {
      "text/plain": [
       "(192, 598)"
      ]
     },
     "execution_count": 96,
     "metadata": {},
     "output_type": "execute_result"
    }
   ],
   "source": [
    "all_feats.shape"
   ]
  },
  {
   "cell_type": "code",
   "execution_count": 97,
   "id": "fantastic-apparatus",
   "metadata": {},
   "outputs": [],
   "source": [
    "from matplotlib import pyplot as plt\n",
    "%matplotlib inline\n",
    "import seaborn as sns\n",
    "sns.set(\"paper\", \"white\")\n"
   ]
  },
  {
   "cell_type": "code",
   "execution_count": 98,
   "id": "rental-wound",
   "metadata": {},
   "outputs": [],
   "source": [
    "df = pd.DataFrame(data=all_feats.T,columns = budapest_predictor_names)"
   ]
  },
  {
   "cell_type": "code",
   "execution_count": 99,
   "id": "isolated-rental",
   "metadata": {},
   "outputs": [],
   "source": [
    "df_corr = df.corr()"
   ]
  },
  {
   "cell_type": "code",
   "execution_count": 100,
   "id": "residential-pantyhose",
   "metadata": {},
   "outputs": [
    {
     "data": {
      "text/html": [
       "<div>\n",
       "<style scoped>\n",
       "    .dataframe tbody tr th:only-of-type {\n",
       "        vertical-align: middle;\n",
       "    }\n",
       "\n",
       "    .dataframe tbody tr th {\n",
       "        vertical-align: top;\n",
       "    }\n",
       "\n",
       "    .dataframe thead th {\n",
       "        text-align: right;\n",
       "    }\n",
       "</style>\n",
       "<table border=\"1\" class=\"dataframe\">\n",
       "  <thead>\n",
       "    <tr style=\"text-align: right;\">\n",
       "      <th></th>\n",
       "      <th>brightness</th>\n",
       "      <th>vibrance</th>\n",
       "      <th>sharpness</th>\n",
       "      <th>abstract</th>\n",
       "      <th>action</th>\n",
       "      <th>adult</th>\n",
       "      <th>alphabet</th>\n",
       "      <th>animal</th>\n",
       "      <th>architecture</th>\n",
       "      <th>art</th>\n",
       "      <th>...</th>\n",
       "      <th>mfcc_10</th>\n",
       "      <th>mfcc_11</th>\n",
       "      <th>mfcc_12</th>\n",
       "      <th>mfcc_13</th>\n",
       "      <th>mfcc_14</th>\n",
       "      <th>mfcc_15</th>\n",
       "      <th>mfcc_16</th>\n",
       "      <th>mfcc_17</th>\n",
       "      <th>mfcc_18</th>\n",
       "      <th>mfcc_19</th>\n",
       "    </tr>\n",
       "  </thead>\n",
       "  <tbody>\n",
       "    <tr>\n",
       "      <th>brightness</th>\n",
       "      <td>1.000000</td>\n",
       "      <td>0.862295</td>\n",
       "      <td>0.420257</td>\n",
       "      <td>-0.246911</td>\n",
       "      <td>-0.163031</td>\n",
       "      <td>0.365624</td>\n",
       "      <td>0.188202</td>\n",
       "      <td>0.149826</td>\n",
       "      <td>-0.190279</td>\n",
       "      <td>-0.212188</td>\n",
       "      <td>...</td>\n",
       "      <td>-0.185837</td>\n",
       "      <td>-0.204675</td>\n",
       "      <td>-0.143126</td>\n",
       "      <td>-0.201830</td>\n",
       "      <td>-0.339832</td>\n",
       "      <td>-0.362886</td>\n",
       "      <td>-0.410221</td>\n",
       "      <td>-0.168382</td>\n",
       "      <td>-0.122521</td>\n",
       "      <td>-0.156855</td>\n",
       "    </tr>\n",
       "    <tr>\n",
       "      <th>vibrance</th>\n",
       "      <td>0.862295</td>\n",
       "      <td>1.000000</td>\n",
       "      <td>0.326070</td>\n",
       "      <td>-0.193615</td>\n",
       "      <td>-0.088840</td>\n",
       "      <td>0.270109</td>\n",
       "      <td>0.148475</td>\n",
       "      <td>0.296418</td>\n",
       "      <td>-0.175916</td>\n",
       "      <td>-0.210241</td>\n",
       "      <td>...</td>\n",
       "      <td>-0.159699</td>\n",
       "      <td>-0.214002</td>\n",
       "      <td>-0.188981</td>\n",
       "      <td>-0.186696</td>\n",
       "      <td>-0.324633</td>\n",
       "      <td>-0.316560</td>\n",
       "      <td>-0.369466</td>\n",
       "      <td>-0.195330</td>\n",
       "      <td>-0.124251</td>\n",
       "      <td>-0.139844</td>\n",
       "    </tr>\n",
       "    <tr>\n",
       "      <th>sharpness</th>\n",
       "      <td>0.420257</td>\n",
       "      <td>0.326070</td>\n",
       "      <td>1.000000</td>\n",
       "      <td>-0.199610</td>\n",
       "      <td>0.156667</td>\n",
       "      <td>0.332275</td>\n",
       "      <td>-0.005656</td>\n",
       "      <td>0.017175</td>\n",
       "      <td>0.106359</td>\n",
       "      <td>0.177910</td>\n",
       "      <td>...</td>\n",
       "      <td>-0.106668</td>\n",
       "      <td>-0.126136</td>\n",
       "      <td>0.001002</td>\n",
       "      <td>0.005819</td>\n",
       "      <td>-0.031421</td>\n",
       "      <td>-0.235355</td>\n",
       "      <td>-0.082068</td>\n",
       "      <td>-0.109797</td>\n",
       "      <td>0.043579</td>\n",
       "      <td>-0.142635</td>\n",
       "    </tr>\n",
       "    <tr>\n",
       "      <th>abstract</th>\n",
       "      <td>-0.246911</td>\n",
       "      <td>-0.193615</td>\n",
       "      <td>-0.199610</td>\n",
       "      <td>1.000000</td>\n",
       "      <td>0.319929</td>\n",
       "      <td>-0.357859</td>\n",
       "      <td>0.320456</td>\n",
       "      <td>0.233028</td>\n",
       "      <td>0.267395</td>\n",
       "      <td>0.445234</td>\n",
       "      <td>...</td>\n",
       "      <td>0.182693</td>\n",
       "      <td>0.118506</td>\n",
       "      <td>0.110013</td>\n",
       "      <td>0.098505</td>\n",
       "      <td>0.108077</td>\n",
       "      <td>0.173470</td>\n",
       "      <td>0.195048</td>\n",
       "      <td>0.002255</td>\n",
       "      <td>0.079668</td>\n",
       "      <td>0.203977</td>\n",
       "    </tr>\n",
       "    <tr>\n",
       "      <th>action</th>\n",
       "      <td>-0.163031</td>\n",
       "      <td>-0.088840</td>\n",
       "      <td>0.156667</td>\n",
       "      <td>0.319929</td>\n",
       "      <td>1.000000</td>\n",
       "      <td>-0.167708</td>\n",
       "      <td>0.054857</td>\n",
       "      <td>0.231701</td>\n",
       "      <td>0.399183</td>\n",
       "      <td>0.317751</td>\n",
       "      <td>...</td>\n",
       "      <td>0.237184</td>\n",
       "      <td>0.137560</td>\n",
       "      <td>0.294242</td>\n",
       "      <td>0.120286</td>\n",
       "      <td>0.294292</td>\n",
       "      <td>0.052776</td>\n",
       "      <td>0.373542</td>\n",
       "      <td>-0.138763</td>\n",
       "      <td>0.065177</td>\n",
       "      <td>0.100567</td>\n",
       "    </tr>\n",
       "    <tr>\n",
       "      <th>...</th>\n",
       "      <td>...</td>\n",
       "      <td>...</td>\n",
       "      <td>...</td>\n",
       "      <td>...</td>\n",
       "      <td>...</td>\n",
       "      <td>...</td>\n",
       "      <td>...</td>\n",
       "      <td>...</td>\n",
       "      <td>...</td>\n",
       "      <td>...</td>\n",
       "      <td>...</td>\n",
       "      <td>...</td>\n",
       "      <td>...</td>\n",
       "      <td>...</td>\n",
       "      <td>...</td>\n",
       "      <td>...</td>\n",
       "      <td>...</td>\n",
       "      <td>...</td>\n",
       "      <td>...</td>\n",
       "      <td>...</td>\n",
       "      <td>...</td>\n",
       "    </tr>\n",
       "    <tr>\n",
       "      <th>mfcc_15</th>\n",
       "      <td>-0.362886</td>\n",
       "      <td>-0.316560</td>\n",
       "      <td>-0.235355</td>\n",
       "      <td>0.173470</td>\n",
       "      <td>0.052776</td>\n",
       "      <td>-0.199457</td>\n",
       "      <td>-0.094755</td>\n",
       "      <td>-0.090259</td>\n",
       "      <td>0.106242</td>\n",
       "      <td>0.108391</td>\n",
       "      <td>...</td>\n",
       "      <td>0.448066</td>\n",
       "      <td>0.333125</td>\n",
       "      <td>0.240781</td>\n",
       "      <td>0.427974</td>\n",
       "      <td>0.532746</td>\n",
       "      <td>1.000000</td>\n",
       "      <td>0.558343</td>\n",
       "      <td>0.291782</td>\n",
       "      <td>0.042636</td>\n",
       "      <td>0.374163</td>\n",
       "    </tr>\n",
       "    <tr>\n",
       "      <th>mfcc_16</th>\n",
       "      <td>-0.410221</td>\n",
       "      <td>-0.369466</td>\n",
       "      <td>-0.082068</td>\n",
       "      <td>0.195048</td>\n",
       "      <td>0.373542</td>\n",
       "      <td>-0.352326</td>\n",
       "      <td>-0.007061</td>\n",
       "      <td>-0.040438</td>\n",
       "      <td>0.375798</td>\n",
       "      <td>0.295895</td>\n",
       "      <td>...</td>\n",
       "      <td>0.475808</td>\n",
       "      <td>0.417447</td>\n",
       "      <td>0.471634</td>\n",
       "      <td>0.360847</td>\n",
       "      <td>0.601754</td>\n",
       "      <td>0.558343</td>\n",
       "      <td>1.000000</td>\n",
       "      <td>0.222671</td>\n",
       "      <td>0.090436</td>\n",
       "      <td>0.310851</td>\n",
       "    </tr>\n",
       "    <tr>\n",
       "      <th>mfcc_17</th>\n",
       "      <td>-0.168382</td>\n",
       "      <td>-0.195330</td>\n",
       "      <td>-0.109797</td>\n",
       "      <td>0.002255</td>\n",
       "      <td>-0.138763</td>\n",
       "      <td>-0.030282</td>\n",
       "      <td>-0.011550</td>\n",
       "      <td>-0.062550</td>\n",
       "      <td>-0.082434</td>\n",
       "      <td>-0.078061</td>\n",
       "      <td>...</td>\n",
       "      <td>0.064250</td>\n",
       "      <td>0.202182</td>\n",
       "      <td>0.157870</td>\n",
       "      <td>0.282059</td>\n",
       "      <td>0.145451</td>\n",
       "      <td>0.291782</td>\n",
       "      <td>0.222671</td>\n",
       "      <td>1.000000</td>\n",
       "      <td>0.426251</td>\n",
       "      <td>0.142676</td>\n",
       "    </tr>\n",
       "    <tr>\n",
       "      <th>mfcc_18</th>\n",
       "      <td>-0.122521</td>\n",
       "      <td>-0.124251</td>\n",
       "      <td>0.043579</td>\n",
       "      <td>0.079668</td>\n",
       "      <td>0.065177</td>\n",
       "      <td>-0.152630</td>\n",
       "      <td>0.150969</td>\n",
       "      <td>-0.153433</td>\n",
       "      <td>0.036101</td>\n",
       "      <td>-0.020962</td>\n",
       "      <td>...</td>\n",
       "      <td>-0.122603</td>\n",
       "      <td>0.172293</td>\n",
       "      <td>0.264657</td>\n",
       "      <td>0.228891</td>\n",
       "      <td>0.256000</td>\n",
       "      <td>0.042636</td>\n",
       "      <td>0.090436</td>\n",
       "      <td>0.426251</td>\n",
       "      <td>1.000000</td>\n",
       "      <td>0.258114</td>\n",
       "    </tr>\n",
       "    <tr>\n",
       "      <th>mfcc_19</th>\n",
       "      <td>-0.156855</td>\n",
       "      <td>-0.139844</td>\n",
       "      <td>-0.142635</td>\n",
       "      <td>0.203977</td>\n",
       "      <td>0.100567</td>\n",
       "      <td>-0.179921</td>\n",
       "      <td>0.011399</td>\n",
       "      <td>-0.031405</td>\n",
       "      <td>0.035226</td>\n",
       "      <td>0.076029</td>\n",
       "      <td>...</td>\n",
       "      <td>0.360165</td>\n",
       "      <td>0.341431</td>\n",
       "      <td>0.326067</td>\n",
       "      <td>0.259341</td>\n",
       "      <td>0.242150</td>\n",
       "      <td>0.374163</td>\n",
       "      <td>0.310851</td>\n",
       "      <td>0.142676</td>\n",
       "      <td>0.258114</td>\n",
       "      <td>1.000000</td>\n",
       "    </tr>\n",
       "  </tbody>\n",
       "</table>\n",
       "<p>192 rows × 192 columns</p>\n",
       "</div>"
      ],
      "text/plain": [
       "            brightness  vibrance  sharpness  abstract    action     adult  \\\n",
       "brightness    1.000000  0.862295   0.420257 -0.246911 -0.163031  0.365624   \n",
       "vibrance      0.862295  1.000000   0.326070 -0.193615 -0.088840  0.270109   \n",
       "sharpness     0.420257  0.326070   1.000000 -0.199610  0.156667  0.332275   \n",
       "abstract     -0.246911 -0.193615  -0.199610  1.000000  0.319929 -0.357859   \n",
       "action       -0.163031 -0.088840   0.156667  0.319929  1.000000 -0.167708   \n",
       "...                ...       ...        ...       ...       ...       ...   \n",
       "mfcc_15      -0.362886 -0.316560  -0.235355  0.173470  0.052776 -0.199457   \n",
       "mfcc_16      -0.410221 -0.369466  -0.082068  0.195048  0.373542 -0.352326   \n",
       "mfcc_17      -0.168382 -0.195330  -0.109797  0.002255 -0.138763 -0.030282   \n",
       "mfcc_18      -0.122521 -0.124251   0.043579  0.079668  0.065177 -0.152630   \n",
       "mfcc_19      -0.156855 -0.139844  -0.142635  0.203977  0.100567 -0.179921   \n",
       "\n",
       "            alphabet    animal  architecture       art  ...   mfcc_10  \\\n",
       "brightness  0.188202  0.149826     -0.190279 -0.212188  ... -0.185837   \n",
       "vibrance    0.148475  0.296418     -0.175916 -0.210241  ... -0.159699   \n",
       "sharpness  -0.005656  0.017175      0.106359  0.177910  ... -0.106668   \n",
       "abstract    0.320456  0.233028      0.267395  0.445234  ...  0.182693   \n",
       "action      0.054857  0.231701      0.399183  0.317751  ...  0.237184   \n",
       "...              ...       ...           ...       ...  ...       ...   \n",
       "mfcc_15    -0.094755 -0.090259      0.106242  0.108391  ...  0.448066   \n",
       "mfcc_16    -0.007061 -0.040438      0.375798  0.295895  ...  0.475808   \n",
       "mfcc_17    -0.011550 -0.062550     -0.082434 -0.078061  ...  0.064250   \n",
       "mfcc_18     0.150969 -0.153433      0.036101 -0.020962  ... -0.122603   \n",
       "mfcc_19     0.011399 -0.031405      0.035226  0.076029  ...  0.360165   \n",
       "\n",
       "             mfcc_11   mfcc_12   mfcc_13   mfcc_14   mfcc_15   mfcc_16  \\\n",
       "brightness -0.204675 -0.143126 -0.201830 -0.339832 -0.362886 -0.410221   \n",
       "vibrance   -0.214002 -0.188981 -0.186696 -0.324633 -0.316560 -0.369466   \n",
       "sharpness  -0.126136  0.001002  0.005819 -0.031421 -0.235355 -0.082068   \n",
       "abstract    0.118506  0.110013  0.098505  0.108077  0.173470  0.195048   \n",
       "action      0.137560  0.294242  0.120286  0.294292  0.052776  0.373542   \n",
       "...              ...       ...       ...       ...       ...       ...   \n",
       "mfcc_15     0.333125  0.240781  0.427974  0.532746  1.000000  0.558343   \n",
       "mfcc_16     0.417447  0.471634  0.360847  0.601754  0.558343  1.000000   \n",
       "mfcc_17     0.202182  0.157870  0.282059  0.145451  0.291782  0.222671   \n",
       "mfcc_18     0.172293  0.264657  0.228891  0.256000  0.042636  0.090436   \n",
       "mfcc_19     0.341431  0.326067  0.259341  0.242150  0.374163  0.310851   \n",
       "\n",
       "             mfcc_17   mfcc_18   mfcc_19  \n",
       "brightness -0.168382 -0.122521 -0.156855  \n",
       "vibrance   -0.195330 -0.124251 -0.139844  \n",
       "sharpness  -0.109797  0.043579 -0.142635  \n",
       "abstract    0.002255  0.079668  0.203977  \n",
       "action     -0.138763  0.065177  0.100567  \n",
       "...              ...       ...       ...  \n",
       "mfcc_15     0.291782  0.042636  0.374163  \n",
       "mfcc_16     0.222671  0.090436  0.310851  \n",
       "mfcc_17     1.000000  0.426251  0.142676  \n",
       "mfcc_18     0.426251  1.000000  0.258114  \n",
       "mfcc_19     0.142676  0.258114  1.000000  \n",
       "\n",
       "[192 rows x 192 columns]"
      ]
     },
     "execution_count": 100,
     "metadata": {},
     "output_type": "execute_result"
    }
   ],
   "source": [
    "df_corr"
   ]
  },
  {
   "cell_type": "code",
   "execution_count": null,
   "id": "human-clothing",
   "metadata": {},
   "outputs": [
    {
     "data": {
      "text/plain": [
       "Text(0.5, 1.0, 'budapest part 1')"
      ]
     },
     "execution_count": 102,
     "metadata": {},
     "output_type": "execute_result"
    }
   ],
   "source": [
    "# Generate a mask for the upper triangle\n",
    "mask = np.triu(np.ones_like(df_corr, dtype=np.bool))\n",
    "\n",
    "# Set up the matplotlib figure\n",
    "f, ax = plt.subplots(figsize=(30, 26))\n",
    "\n",
    "# Generate a custom diverging colormap\n",
    "#cmap = sns.diverging_palette(220, 10, as_cmap=True)\n",
    "\n",
    "\n",
    "# Draw the heatmap with the mask and correct aspect ratio\n",
    "sns.heatmap(df_corr, cmap = 'bwr', vmin=-1, vmax=1)\n",
    "plt.title(\"budapest part 1\")"
   ]
  },
  {
   "cell_type": "code",
   "execution_count": null,
   "id": "motivated-guidance",
   "metadata": {},
   "outputs": [],
   "source": []
  }
 ],
 "metadata": {
  "kernelspec": {
   "display_name": "Python 3",
   "language": "python",
   "name": "python3"
  },
  "language_info": {
   "codemirror_mode": {
    "name": "ipython",
    "version": 3
   },
   "file_extension": ".py",
   "mimetype": "text/x-python",
   "name": "python",
   "nbconvert_exporter": "python",
   "pygments_lexer": "ipython3",
   "version": "3.8.5"
  }
 },
 "nbformat": 4,
 "nbformat_minor": 5
}
